{
  "nbformat": 4,
  "nbformat_minor": 0,
  "metadata": {
    "colab": {
      "provenance": []
    },
    "kernelspec": {
      "name": "python3",
      "display_name": "Python 3"
    },
    "language_info": {
      "name": "python"
    }
  },
  "cells": [
    {
      "cell_type": "code",
      "source": [
        "import requests\n",
        "from bs4 import BeautifulSoup\n",
        "import re\n",
        "import json\n",
        "from google.colab import files\n",
        "\n",
        "# URL of the page to scrape\n",
        "url = 'https://lucidowners.com/threads/updated-owners-manual.5283/'\n",
        "\n",
        "# Send an HTTP GET request\n",
        "response = requests.get(url)\n",
        "\n",
        "# Check for successful response\n",
        "if response.status_code == 200:\n",
        "    # Parse HTML content\n",
        "    soup = BeautifulSoup(response.content, 'html.parser')\n",
        "\n",
        "    # Extract text from divs with class 'bbwrapper'\n",
        "    content = []\n",
        "    for section in soup.find_all('div', class_='bbWrapper'):\n",
        "        text = section.get_text(strip=True)\n",
        "        if text:\n",
        "            # Remove excessive whitespace and clean text\n",
        "            text = re.sub(r'\\s+', ' ', text)\n",
        "            content.append({\"text\": text})\n",
        "\n",
        "    # Save content to JSON file\n",
        "    json_filename = 'lucid_owners_manual.json'\n",
        "    with open(json_filename, 'w', encoding='utf-8') as file:\n",
        "        json.dump(content, file, ensure_ascii=False, indent=4)\n",
        "\n",
        "    print(\"Content saved in JSON format for chunking.\")\n",
        "\n",
        "    # Download JSON file\n",
        "    files.download(json_filename)\n",
        "else:\n",
        "    print(\"Failed to retrieve the page.\")\n"
      ],
      "metadata": {
        "colab": {
          "base_uri": "https://localhost:8080/",
          "height": 35
        },
        "id": "IHHG00M4FtY1",
        "outputId": "8afb686d-83ed-4e59-ea3a-b47596438fc3"
      },
      "execution_count": 5,
      "outputs": [
        {
          "output_type": "stream",
          "name": "stdout",
          "text": [
            "Content saved in JSON format for chunking.\n"
          ]
        },
        {
          "output_type": "display_data",
          "data": {
            "text/plain": [
              "<IPython.core.display.Javascript object>"
            ],
            "application/javascript": [
              "\n",
              "    async function download(id, filename, size) {\n",
              "      if (!google.colab.kernel.accessAllowed) {\n",
              "        return;\n",
              "      }\n",
              "      const div = document.createElement('div');\n",
              "      const label = document.createElement('label');\n",
              "      label.textContent = `Downloading \"${filename}\": `;\n",
              "      div.appendChild(label);\n",
              "      const progress = document.createElement('progress');\n",
              "      progress.max = size;\n",
              "      div.appendChild(progress);\n",
              "      document.body.appendChild(div);\n",
              "\n",
              "      const buffers = [];\n",
              "      let downloaded = 0;\n",
              "\n",
              "      const channel = await google.colab.kernel.comms.open(id);\n",
              "      // Send a message to notify the kernel that we're ready.\n",
              "      channel.send({})\n",
              "\n",
              "      for await (const message of channel.messages) {\n",
              "        // Send a message to notify the kernel that we're ready.\n",
              "        channel.send({})\n",
              "        if (message.buffers) {\n",
              "          for (const buffer of message.buffers) {\n",
              "            buffers.push(buffer);\n",
              "            downloaded += buffer.byteLength;\n",
              "            progress.value = downloaded;\n",
              "          }\n",
              "        }\n",
              "      }\n",
              "      const blob = new Blob(buffers, {type: 'application/binary'});\n",
              "      const a = document.createElement('a');\n",
              "      a.href = window.URL.createObjectURL(blob);\n",
              "      a.download = filename;\n",
              "      div.appendChild(a);\n",
              "      a.click();\n",
              "      div.remove();\n",
              "    }\n",
              "  "
            ]
          },
          "metadata": {}
        },
        {
          "output_type": "display_data",
          "data": {
            "text/plain": [
              "<IPython.core.display.Javascript object>"
            ],
            "application/javascript": [
              "download(\"download_de1c6338-8285-4504-8844-1c7dc6413f10\", \"lucid_owners_manual.json\", 10909)"
            ]
          },
          "metadata": {}
        }
      ]
    },
    {
      "cell_type": "code",
      "source": [
        "import requests\n",
        "from bs4 import BeautifulSoup\n",
        "import json\n",
        "from google.colab import files\n",
        "from transformers import pipeline\n",
        "\n",
        "# Function to perform semantic chunking\n",
        "def semantic_chunk(text, chunk_size=50):\n",
        "    # Use a pre-trained summarization model\n",
        "    summarizer = pipeline(\"summarization\")\n",
        "\n",
        "    # Split the text into chunks and summarize\n",
        "    chunks = []\n",
        "    sentences = text.split('. ')\n",
        "    for i in range(0, len(sentences), chunk_size):\n",
        "        chunk = '. '.join(sentences[i:i + chunk_size])\n",
        "        summarized_chunk = summarizer(chunk, max_length=50, min_length=25, do_sample=False)\n",
        "        chunks.append(summarized_chunk[0]['summary_text'])\n",
        "\n",
        "    return chunks\n",
        "\n",
        "# URL of the page to scrape\n",
        "url = 'https://lucidowners.com/threads/updated-owners-manual.5283/'\n",
        "\n",
        "# Send an HTTP GET request\n",
        "response = requests.get(url)\n",
        "\n",
        "# Check for successful response\n",
        "if response.status_code == 200:\n",
        "    # Parse HTML content\n",
        "    soup = BeautifulSoup(response.content, 'html.parser')\n",
        "\n",
        "    # Extract messages and their details\n",
        "    messages = []\n",
        "    for message in soup.find_all('article', class_='message message--post'):\n",
        "        message_details = {}\n",
        "\n",
        "        # Get the message content\n",
        "        content = message.find('div', class_='bbWrapper')\n",
        "        if content:\n",
        "            full_content = content.get_text(strip=True)\n",
        "            # Perform semantic chunking\n",
        "            message_details['chunks'] = semantic_chunk(full_content)\n",
        "\n",
        "        # Get author details\n",
        "        author = message['data-author']\n",
        "        message_details['author'] = author\n",
        "\n",
        "        # Get post timestamp\n",
        "        timestamp = message.find('time', class_='u-dt')\n",
        "        if timestamp:\n",
        "            message_details['timestamp'] = timestamp['datetime']\n",
        "\n",
        "        messages.append(message_details)\n",
        "\n",
        "    # Save messages to JSON file\n",
        "    json_filename = 'lucid_owners_messages.json'\n",
        "    with open(json_filename, 'w', encoding='utf-8') as file:\n",
        "        json.dump(messages, file, ensure_ascii=False, indent=4)\n",
        "\n",
        "    print(\"Messages saved in JSON format.\")\n",
        "\n",
        "    # Download JSON file\n",
        "    files.download(json_filename)\n",
        "else:\n",
        "    print(\"Failed to retrieve the page.\")\n"
      ],
      "metadata": {
        "colab": {
          "base_uri": "https://localhost:8080/",
          "height": 35
        },
        "id": "M9VdsRsrO7XV",
        "outputId": "6e4cdff1-a5a0-4c5a-b62c-e6970a72842f"
      },
      "execution_count": 6,
      "outputs": [
        {
          "output_type": "stream",
          "name": "stdout",
          "text": [
            "Messages saved in JSON format.\n"
          ]
        },
        {
          "output_type": "display_data",
          "data": {
            "text/plain": [
              "<IPython.core.display.Javascript object>"
            ],
            "application/javascript": [
              "\n",
              "    async function download(id, filename, size) {\n",
              "      if (!google.colab.kernel.accessAllowed) {\n",
              "        return;\n",
              "      }\n",
              "      const div = document.createElement('div');\n",
              "      const label = document.createElement('label');\n",
              "      label.textContent = `Downloading \"${filename}\": `;\n",
              "      div.appendChild(label);\n",
              "      const progress = document.createElement('progress');\n",
              "      progress.max = size;\n",
              "      div.appendChild(progress);\n",
              "      document.body.appendChild(div);\n",
              "\n",
              "      const buffers = [];\n",
              "      let downloaded = 0;\n",
              "\n",
              "      const channel = await google.colab.kernel.comms.open(id);\n",
              "      // Send a message to notify the kernel that we're ready.\n",
              "      channel.send({})\n",
              "\n",
              "      for await (const message of channel.messages) {\n",
              "        // Send a message to notify the kernel that we're ready.\n",
              "        channel.send({})\n",
              "        if (message.buffers) {\n",
              "          for (const buffer of message.buffers) {\n",
              "            buffers.push(buffer);\n",
              "            downloaded += buffer.byteLength;\n",
              "            progress.value = downloaded;\n",
              "          }\n",
              "        }\n",
              "      }\n",
              "      const blob = new Blob(buffers, {type: 'application/binary'});\n",
              "      const a = document.createElement('a');\n",
              "      a.href = window.URL.createObjectURL(blob);\n",
              "      a.download = filename;\n",
              "      div.appendChild(a);\n",
              "      a.click();\n",
              "      div.remove();\n",
              "    }\n",
              "  "
            ]
          },
          "metadata": {}
        },
        {
          "output_type": "display_data",
          "data": {
            "text/plain": [
              "<IPython.core.display.Javascript object>"
            ],
            "application/javascript": [
              "download(\"download_613b404c-a8e2-4f8d-9b59-433c2e0c78fc\", \"lucid_owners_messages.json\", 2)"
            ]
          },
          "metadata": {}
        }
      ]
    }
  ]
}