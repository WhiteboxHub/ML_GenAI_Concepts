{
 "cells": [
  {
   "cell_type": "code",
   "execution_count": 31,
   "metadata": {},
   "outputs": [],
   "source": [
    "import json\n",
    "from langchain_core.runnables import RunnablePassthrough, RunnableMap\n",
    "from langchain.embeddings import HuggingFaceEmbeddings\n",
    "from langchain.vectorstores import Chroma\n",
    "from langchain.text_splitter import CharacterTextSplitter\n",
    "from langchain_community.document_loaders import PyPDFLoader\n",
    "from langchain.embeddings.cache import CacheBackedEmbeddings\n",
    "from langchain.storage import LocalFileStore\n",
    "from langchain_core.prompts import ChatPromptTemplate\n",
    "from langchain_mistralai import ChatMistralAI\n",
    "from langchain_core.runnables import RunnableParallel\n"
   ]
  },
  {
   "cell_type": "code",
   "execution_count": 32,
   "metadata": {},
   "outputs": [],
   "source": [
    "api_key=\"vOTciFdHcICaBscyJkwc0EOxD2GDABrp\"\n"
   ]
  },
  {
   "cell_type": "code",
   "execution_count": 33,
   "metadata": {},
   "outputs": [],
   "source": [
    "# Load the dataset for evaluation\n",
    "with open(\"/Users/innovapathinc/Desktop/Gen Ai Topics /Retrieval_eval/ML_GenAI_Concepts/RAG/medical_dataset.json\", \"r\") as f:\n",
    "    ground_truth = json.load(f)"
   ]
  },
  {
   "cell_type": "code",
   "execution_count": 34,
   "metadata": {},
   "outputs": [],
   "source": [
    "# Function to calculate evaluation metrics\n",
    "def evaluate_retrieval(retriever, ground_truth, k=10):\n",
    "    precision_list = []\n",
    "    recall_list = []\n",
    "    reciprocal_ranks = []\n",
    "\n",
    "    for item in ground_truth:\n",
    "        query = item[\"query\"]\n",
    "        ground_truth_doc = item[\"ground_truth_document\"]\n",
    "\n",
    "        # Retrieve top-k documents\n",
    "        retrieved_docs = retriever.get_relevant_documents(query)[:k]\n",
    "\n",
    "        # Extract content for comparison\n",
    "        retrieved_content = [doc.page_content for doc in retrieved_docs]\n",
    "\n",
    "        # Precision@k\n",
    "        relevant_retrieved = sum(1 for doc in retrieved_content if ground_truth_doc in doc)\n",
    "        precision = relevant_retrieved / k\n",
    "        precision_list.append(precision)\n",
    "\n",
    "        # Recall@k\n",
    "        total_relevant = 1  # Assuming one ground truth document\n",
    "        recall = relevant_retrieved / total_relevant\n",
    "        recall_list.append(recall)\n",
    "\n",
    "\n",
    "    # Calculate averages\n",
    "    precision_avg = sum(precision_list) / len(precision_list)\n",
    "    recall_avg = sum(recall_list) / len(recall_list)\n",
    "\n",
    "    return {\n",
    "        \"Precision@k\": precision_avg,\n",
    "        \"Recall@k\": recall_avg,\n",
    "    }"
   ]
  },
  {
   "cell_type": "code",
   "execution_count": 13,
   "metadata": {},
   "outputs": [],
   "source": [
    "# Load and preprocess documents\n",
    "loader = PyPDFLoader(\"/Users/innovapathinc/Desktop/Gen Ai Topics /Retrieval_eval/ML_GenAI_Concepts/RAG/Data/Medical_book.pdf\")\n",
    "docs = loader.load()\n",
    "text_splitter = CharacterTextSplitter(\n",
    "    separator=\"\\n\\n\", chunk_size=500, chunk_overlap=150, is_separator_regex=False\n",
    ")\n",
    "chunks = text_splitter.split_documents(docs)"
   ]
  },
  {
   "cell_type": "code",
   "execution_count": 14,
   "metadata": {},
   "outputs": [
    {
     "name": "stderr",
     "output_type": "stream",
     "text": [
      "/var/folders/td/g4bcvbr54mn29j_62d0l96c40000gn/T/ipykernel_994/4174722945.py:3: LangChainDeprecationWarning: The class `HuggingFaceEmbeddings` was deprecated in LangChain 0.2.2 and will be removed in 1.0. An updated version of the class exists in the :class:`~langchain-huggingface package and should be used instead. To use it run `pip install -U :class:`~langchain-huggingface` and import as `from :class:`~langchain_huggingface import HuggingFaceEmbeddings``.\n",
      "  core_embeddings_model = HuggingFaceEmbeddings(model_name=\"sentence-transformers/all-MiniLM-L6-v2\")\n",
      "/Library/Frameworks/Python.framework/Versions/3.12/lib/python3.12/site-packages/sentence_transformers/cross_encoder/CrossEncoder.py:13: TqdmWarning: IProgress not found. Please update jupyter and ipywidgets. See https://ipywidgets.readthedocs.io/en/stable/user_install.html\n",
      "  from tqdm.autonotebook import tqdm, trange\n",
      "/Library/Frameworks/Python.framework/Versions/3.12/lib/python3.12/site-packages/transformers/tokenization_utils_base.py:1617: FutureWarning: `clean_up_tokenization_spaces` was not set. It will be set to `True` by default. This behavior will be deprecated in transformers v4.45, and will be then set to `False` by default. For more details check this issue: https://github.com/huggingface/transformers/issues/31884\n",
      "  warnings.warn(\n"
     ]
    }
   ],
   "source": [
    "# Setup embeddings and retriever\n",
    "store = LocalFileStore(\"./cache/\")\n",
    "core_embeddings_model = HuggingFaceEmbeddings(model_name=\"sentence-transformers/all-MiniLM-L6-v2\")\n",
    "embedder = CacheBackedEmbeddings.from_bytes_store(core_embeddings_model, store)\n",
    "vectorstore = Chroma.from_documents(chunks, embedder, persist_directory=\"./chroma_store\")\n",
    "retriever = vectorstore.as_retriever()"
   ]
  },
  {
   "cell_type": "code",
   "execution_count": 35,
   "metadata": {},
   "outputs": [],
   "source": [
    "# Define prompt and LLM\n",
    "prompt = \"\"\"You are an assistant for question-answering tasks.\n",
    "Use the following pieces of retrieved context to answer the question.\n",
    "If you don't know the answer, just say that you don't know.\n",
    "Use three sentences maximum and keep the answer concise.\n",
    "\n",
    "Question: {question}\n",
    "\n",
    "Context: {context}\n",
    "\n",
    "Answer:\n",
    "\"\"\"\n",
    "prompt_template = ChatPromptTemplate.from_template(prompt)\n",
    "llm = ChatMistralAI(model=\"mistral-large-latest\", streaming=True, api_key=api_key)"
   ]
  },
  {
   "cell_type": "code",
   "execution_count": 36,
   "metadata": {},
   "outputs": [],
   "source": [
    "# RAG chain\n",
    "rag_chain_from_docs = (\n",
    "    RunnablePassthrough.assign(context=(lambda x: \"\\n\\n\".join(doc.page_content for doc in x[\"context\"])))\n",
    "    | prompt_template\n",
    "    | llm\n",
    ")\n",
    "rag_chain_with_source = RunnableParallel(\n",
    "    {\"context\": retriever, \"question\": RunnablePassthrough()}\n",
    ").assign(answer=rag_chain_from_docs)"
   ]
  },
  {
   "cell_type": "code",
   "execution_count": 47,
   "metadata": {},
   "outputs": [
    {
     "name": "stdout",
     "output_type": "stream",
     "text": [
      "Answer: A brain tumor is an abnormal growth of cells in the brain, which can be benign (non-cancerous) or malignant (cancerous). Benign brain tumors have clear borders and grow slowly, while malignant ones grow rapidly and invade nearby tissues. Brain tumors can cause various symptoms, including pain, brain damage, and even death, depending on their location and type.\n",
      "Retrieved Context: [Document(metadata={'page': 582, 'source': './Medical_book.pdf'}, page_content='extension and rarely metastasize (spread) outside the\\nbrain. A benign brain tumor is composed of non-cancer-\\nous cells and does not metastasize beyond the part of the\\nbrain where it originates. A brain tumor is considered\\nmalignant if it contains cancer cells, or if it is composed\\nof harmless cells located in an area where it suppresses\\none or more vital functions.\\nDescription\\nEach year, more than 17,000 brain tumors are diag-\\nnosed in the United States. About half of all primary\\nbrain tumors are benign, but in life-threatening locations.\\nThe rest are malignant and invasive.\\nBenign brain tumors\\nBenign brain tumors, composed of harmless cells,\\nhave clearly defined borders, can usually be completely\\nremoved, and are unlikely to recur. Benign brain tumors\\ndo not infiltrate nearby tissues but can cause severe pain,\\npermanent brain damage, and death. Benign brain\\ntumors sometimes become malignant.\\nMalignant brain tumors\\nMalignant brain tumors do not have distinct borders.\\nThey tend to grow rapidly, increasing pressure within the\\nbrain (IICP) and can spread in the brain or spinal cord\\nbeyond the point where they originate. It is highly unusu-\\nal for malignant brain tumors to spread beyond the cen-\\ntral nervous system (CNS).\\nPrimary brain tumors\\nPrimary brain tumors originate in the brain. They\\nrepresent about 1% of all cancers and 2.5% of all cancer\\ndeaths.\\nMetastatic or secondary brain tumors\\nApproximately 25% of all cancer patients develop\\nsecondary or metastatic brain tumors when cancer cells\\nspread from another part of the body to the brain. Sec-\\nondary brain tumors are most apt to occur in patients\\nwho have:\\n• breast cancer.\\n• colon cancer.\\n• kidney cancer.\\n• lung cancer.\\n• melanoma (cancer) of the skin. These metastatic brain\\ntumors can develop on any part of the brain or spinal\\ncord.\\n• cancer within the nasal passages and/or throat that fol-\\nlow the nerve pathways into the skull, and metastasize\\nto the brain.\\nWho gets brain tumors\\nBrain tumors can develop at any age, but are most\\ncommon in children between the ages of 3-12, and in\\nadults aged 55-65. Primary brain cancer is the second\\nmost common cause of cancer death between birth and\\nthe age of 34, and the fourth most common cause of can-\\ncer death in men aged 35-54. Primary tumors of the brain\\nand central nervous system are often associated with HIV\\ninfection. Men and caucasians have a higher risk of devel-\\noping brain tumors. Other risk factors being studied\\ninclude children with a history of previous radiation treat-\\nment to the head for cancer; parents with certain cancers\\n(nervous system, salivary gland, colon); having an older\\nfather; having well-educated parents; occupational expo-\\nsure to vinyl chloride, lead, and pesticides; history of\\nepilepsy; history of certain genetic conditions (tuberous\\nsclerosis,neurofibromatosis, von Hippel Lindau, famil-\\nial polyposis, Osler-Weber-Rendu, Li-Fraumeni).\\nNaming and grading brain tumors\\nThe name of a brain tumor describes where it origi-\\nnates, how it grows, and what kind of cells it contains. A\\ntumor in an adult is also graded or staged according to:\\n• how malignant it is\\n• how rapidly it is growing and how likely it is to invade\\nother tissues\\n• how closely its cells resemble normal cells. (The more\\nabnormal a tumor cell looks, the faster it is likely to\\ngrow)\\nLow-grade brain tumors usually have well-defined\\nborders. Some low-grade brain tumors form or are\\nenclosed (encapsulated) in cysts. Low-grade brain\\ntumors grow slowly, if at all. They may spread through-\\nout the brain, but rarely metastasize to other parts of the\\nbody.\\nMid-grade and high-grade tumors grow more rapid-\\nly than low-grade tumors. Described as “truly malig-\\nnant,” these tumors usually infiltrate healthy tissue. The\\ngrowth pattern makes it difficult to remove the entire\\ntumor, and these tumors recur more often than low-grade\\ntumors.\\nA single brain tumor can contain several different\\ntypes of cells. The tumor’s grade is determined by the\\nhighest-grade (most malignant) cell detected under a\\nmicroscope, even if most of the cells in the tumor are less\\nmalignant. An infiltrating tumor is a tumor of any grade\\nthat grows into surrounding tissue.\\nGALE ENCYCLOPEDIA OF MEDICINE 2 569\\nBrain tumor\\nGEM -0433 to 0624 - B  10/22/03 6:08 PM  Page 569'), Document(metadata={'page': 582, 'source': '/Users/innovapathinc/Desktop/Gen Ai Topics /Retrieval_eval/ML_GenAI_Concepts/RAG/Data/Medical_book.pdf'}, page_content='extension and rarely metastasize (spread) outside the\\nbrain. A benign brain tumor is composed of non-cancer-\\nous cells and does not metastasize beyond the part of the\\nbrain where it originates. A brain tumor is considered\\nmalignant if it contains cancer cells, or if it is composed\\nof harmless cells located in an area where it suppresses\\none or more vital functions.\\nDescription\\nEach year, more than 17,000 brain tumors are diag-\\nnosed in the United States. About half of all primary\\nbrain tumors are benign, but in life-threatening locations.\\nThe rest are malignant and invasive.\\nBenign brain tumors\\nBenign brain tumors, composed of harmless cells,\\nhave clearly defined borders, can usually be completely\\nremoved, and are unlikely to recur. Benign brain tumors\\ndo not infiltrate nearby tissues but can cause severe pain,\\npermanent brain damage, and death. Benign brain\\ntumors sometimes become malignant.\\nMalignant brain tumors\\nMalignant brain tumors do not have distinct borders.\\nThey tend to grow rapidly, increasing pressure within the\\nbrain (IICP) and can spread in the brain or spinal cord\\nbeyond the point where they originate. It is highly unusu-\\nal for malignant brain tumors to spread beyond the cen-\\ntral nervous system (CNS).\\nPrimary brain tumors\\nPrimary brain tumors originate in the brain. They\\nrepresent about 1% of all cancers and 2.5% of all cancer\\ndeaths.\\nMetastatic or secondary brain tumors\\nApproximately 25% of all cancer patients develop\\nsecondary or metastatic brain tumors when cancer cells\\nspread from another part of the body to the brain. Sec-\\nondary brain tumors are most apt to occur in patients\\nwho have:\\n• breast cancer.\\n• colon cancer.\\n• kidney cancer.\\n• lung cancer.\\n• melanoma (cancer) of the skin. These metastatic brain\\ntumors can develop on any part of the brain or spinal\\ncord.\\n• cancer within the nasal passages and/or throat that fol-\\nlow the nerve pathways into the skull, and metastasize\\nto the brain.\\nWho gets brain tumors\\nBrain tumors can develop at any age, but are most\\ncommon in children between the ages of 3-12, and in\\nadults aged 55-65. Primary brain cancer is the second\\nmost common cause of cancer death between birth and\\nthe age of 34, and the fourth most common cause of can-\\ncer death in men aged 35-54. Primary tumors of the brain\\nand central nervous system are often associated with HIV\\ninfection. Men and caucasians have a higher risk of devel-\\noping brain tumors. Other risk factors being studied\\ninclude children with a history of previous radiation treat-\\nment to the head for cancer; parents with certain cancers\\n(nervous system, salivary gland, colon); having an older\\nfather; having well-educated parents; occupational expo-\\nsure to vinyl chloride, lead, and pesticides; history of\\nepilepsy; history of certain genetic conditions (tuberous\\nsclerosis,neurofibromatosis, von Hippel Lindau, famil-\\nial polyposis, Osler-Weber-Rendu, Li-Fraumeni).\\nNaming and grading brain tumors\\nThe name of a brain tumor describes where it origi-\\nnates, how it grows, and what kind of cells it contains. A\\ntumor in an adult is also graded or staged according to:\\n• how malignant it is\\n• how rapidly it is growing and how likely it is to invade\\nother tissues\\n• how closely its cells resemble normal cells. (The more\\nabnormal a tumor cell looks, the faster it is likely to\\ngrow)\\nLow-grade brain tumors usually have well-defined\\nborders. Some low-grade brain tumors form or are\\nenclosed (encapsulated) in cysts. Low-grade brain\\ntumors grow slowly, if at all. They may spread through-\\nout the brain, but rarely metastasize to other parts of the\\nbody.\\nMid-grade and high-grade tumors grow more rapid-\\nly than low-grade tumors. Described as “truly malig-\\nnant,” these tumors usually infiltrate healthy tissue. The\\ngrowth pattern makes it difficult to remove the entire\\ntumor, and these tumors recur more often than low-grade\\ntumors.\\nA single brain tumor can contain several different\\ntypes of cells. The tumor’s grade is determined by the\\nhighest-grade (most malignant) cell detected under a\\nmicroscope, even if most of the cells in the tumor are less\\nmalignant. An infiltrating tumor is a tumor of any grade\\nthat grows into surrounding tissue.\\nGALE ENCYCLOPEDIA OF MEDICINE 2 569\\nBrain tumor\\nGEM -0433 to 0624 - B  10/22/03 6:08 PM  Page 569'), Document(metadata={'page': 582, 'source': '/Users/innovapathinc/Desktop/Gen Ai Topics /Retrieval_eval/ML_GenAI_Concepts/RAG/Data/Medical_book.pdf'}, page_content='extension and rarely metastasize (spread) outside the\\nbrain. A benign brain tumor is composed of non-cancer-\\nous cells and does not metastasize beyond the part of the\\nbrain where it originates. A brain tumor is considered\\nmalignant if it contains cancer cells, or if it is composed\\nof harmless cells located in an area where it suppresses\\none or more vital functions.\\nDescription\\nEach year, more than 17,000 brain tumors are diag-\\nnosed in the United States. About half of all primary\\nbrain tumors are benign, but in life-threatening locations.\\nThe rest are malignant and invasive.\\nBenign brain tumors\\nBenign brain tumors, composed of harmless cells,\\nhave clearly defined borders, can usually be completely\\nremoved, and are unlikely to recur. Benign brain tumors\\ndo not infiltrate nearby tissues but can cause severe pain,\\npermanent brain damage, and death. Benign brain\\ntumors sometimes become malignant.\\nMalignant brain tumors\\nMalignant brain tumors do not have distinct borders.\\nThey tend to grow rapidly, increasing pressure within the\\nbrain (IICP) and can spread in the brain or spinal cord\\nbeyond the point where they originate. It is highly unusu-\\nal for malignant brain tumors to spread beyond the cen-\\ntral nervous system (CNS).\\nPrimary brain tumors\\nPrimary brain tumors originate in the brain. They\\nrepresent about 1% of all cancers and 2.5% of all cancer\\ndeaths.\\nMetastatic or secondary brain tumors\\nApproximately 25% of all cancer patients develop\\nsecondary or metastatic brain tumors when cancer cells\\nspread from another part of the body to the brain. Sec-\\nondary brain tumors are most apt to occur in patients\\nwho have:\\n• breast cancer.\\n• colon cancer.\\n• kidney cancer.\\n• lung cancer.\\n• melanoma (cancer) of the skin. These metastatic brain\\ntumors can develop on any part of the brain or spinal\\ncord.\\n• cancer within the nasal passages and/or throat that fol-\\nlow the nerve pathways into the skull, and metastasize\\nto the brain.\\nWho gets brain tumors\\nBrain tumors can develop at any age, but are most\\ncommon in children between the ages of 3-12, and in\\nadults aged 55-65. Primary brain cancer is the second\\nmost common cause of cancer death between birth and\\nthe age of 34, and the fourth most common cause of can-\\ncer death in men aged 35-54. Primary tumors of the brain\\nand central nervous system are often associated with HIV\\ninfection. Men and caucasians have a higher risk of devel-\\noping brain tumors. Other risk factors being studied\\ninclude children with a history of previous radiation treat-\\nment to the head for cancer; parents with certain cancers\\n(nervous system, salivary gland, colon); having an older\\nfather; having well-educated parents; occupational expo-\\nsure to vinyl chloride, lead, and pesticides; history of\\nepilepsy; history of certain genetic conditions (tuberous\\nsclerosis,neurofibromatosis, von Hippel Lindau, famil-\\nial polyposis, Osler-Weber-Rendu, Li-Fraumeni).\\nNaming and grading brain tumors\\nThe name of a brain tumor describes where it origi-\\nnates, how it grows, and what kind of cells it contains. A\\ntumor in an adult is also graded or staged according to:\\n• how malignant it is\\n• how rapidly it is growing and how likely it is to invade\\nother tissues\\n• how closely its cells resemble normal cells. (The more\\nabnormal a tumor cell looks, the faster it is likely to\\ngrow)\\nLow-grade brain tumors usually have well-defined\\nborders. Some low-grade brain tumors form or are\\nenclosed (encapsulated) in cysts. Low-grade brain\\ntumors grow slowly, if at all. They may spread through-\\nout the brain, but rarely metastasize to other parts of the\\nbody.\\nMid-grade and high-grade tumors grow more rapid-\\nly than low-grade tumors. Described as “truly malig-\\nnant,” these tumors usually infiltrate healthy tissue. The\\ngrowth pattern makes it difficult to remove the entire\\ntumor, and these tumors recur more often than low-grade\\ntumors.\\nA single brain tumor can contain several different\\ntypes of cells. The tumor’s grade is determined by the\\nhighest-grade (most malignant) cell detected under a\\nmicroscope, even if most of the cells in the tumor are less\\nmalignant. An infiltrating tumor is a tumor of any grade\\nthat grows into surrounding tissue.\\nGALE ENCYCLOPEDIA OF MEDICINE 2 569\\nBrain tumor\\nGEM -0433 to 0624 - B  10/22/03 6:08 PM  Page 569'), Document(metadata={'page': 582, 'source': '/Users/innovapathinc/Desktop/Gen Ai Topics /Retrieval_eval/ML_GenAI_Concepts/RAG/Data/Medical_book.pdf'}, page_content='extension and rarely metastasize (spread) outside the\\nbrain. A benign brain tumor is composed of non-cancer-\\nous cells and does not metastasize beyond the part of the\\nbrain where it originates. A brain tumor is considered\\nmalignant if it contains cancer cells, or if it is composed\\nof harmless cells located in an area where it suppresses\\none or more vital functions.\\nDescription\\nEach year, more than 17,000 brain tumors are diag-\\nnosed in the United States. About half of all primary\\nbrain tumors are benign, but in life-threatening locations.\\nThe rest are malignant and invasive.\\nBenign brain tumors\\nBenign brain tumors, composed of harmless cells,\\nhave clearly defined borders, can usually be completely\\nremoved, and are unlikely to recur. Benign brain tumors\\ndo not infiltrate nearby tissues but can cause severe pain,\\npermanent brain damage, and death. Benign brain\\ntumors sometimes become malignant.\\nMalignant brain tumors\\nMalignant brain tumors do not have distinct borders.\\nThey tend to grow rapidly, increasing pressure within the\\nbrain (IICP) and can spread in the brain or spinal cord\\nbeyond the point where they originate. It is highly unusu-\\nal for malignant brain tumors to spread beyond the cen-\\ntral nervous system (CNS).\\nPrimary brain tumors\\nPrimary brain tumors originate in the brain. They\\nrepresent about 1% of all cancers and 2.5% of all cancer\\ndeaths.\\nMetastatic or secondary brain tumors\\nApproximately 25% of all cancer patients develop\\nsecondary or metastatic brain tumors when cancer cells\\nspread from another part of the body to the brain. Sec-\\nondary brain tumors are most apt to occur in patients\\nwho have:\\n• breast cancer.\\n• colon cancer.\\n• kidney cancer.\\n• lung cancer.\\n• melanoma (cancer) of the skin. These metastatic brain\\ntumors can develop on any part of the brain or spinal\\ncord.\\n• cancer within the nasal passages and/or throat that fol-\\nlow the nerve pathways into the skull, and metastasize\\nto the brain.\\nWho gets brain tumors\\nBrain tumors can develop at any age, but are most\\ncommon in children between the ages of 3-12, and in\\nadults aged 55-65. Primary brain cancer is the second\\nmost common cause of cancer death between birth and\\nthe age of 34, and the fourth most common cause of can-\\ncer death in men aged 35-54. Primary tumors of the brain\\nand central nervous system are often associated with HIV\\ninfection. Men and caucasians have a higher risk of devel-\\noping brain tumors. Other risk factors being studied\\ninclude children with a history of previous radiation treat-\\nment to the head for cancer; parents with certain cancers\\n(nervous system, salivary gland, colon); having an older\\nfather; having well-educated parents; occupational expo-\\nsure to vinyl chloride, lead, and pesticides; history of\\nepilepsy; history of certain genetic conditions (tuberous\\nsclerosis,neurofibromatosis, von Hippel Lindau, famil-\\nial polyposis, Osler-Weber-Rendu, Li-Fraumeni).\\nNaming and grading brain tumors\\nThe name of a brain tumor describes where it origi-\\nnates, how it grows, and what kind of cells it contains. A\\ntumor in an adult is also graded or staged according to:\\n• how malignant it is\\n• how rapidly it is growing and how likely it is to invade\\nother tissues\\n• how closely its cells resemble normal cells. (The more\\nabnormal a tumor cell looks, the faster it is likely to\\ngrow)\\nLow-grade brain tumors usually have well-defined\\nborders. Some low-grade brain tumors form or are\\nenclosed (encapsulated) in cysts. Low-grade brain\\ntumors grow slowly, if at all. They may spread through-\\nout the brain, but rarely metastasize to other parts of the\\nbody.\\nMid-grade and high-grade tumors grow more rapid-\\nly than low-grade tumors. Described as “truly malig-\\nnant,” these tumors usually infiltrate healthy tissue. The\\ngrowth pattern makes it difficult to remove the entire\\ntumor, and these tumors recur more often than low-grade\\ntumors.\\nA single brain tumor can contain several different\\ntypes of cells. The tumor’s grade is determined by the\\nhighest-grade (most malignant) cell detected under a\\nmicroscope, even if most of the cells in the tumor are less\\nmalignant. An infiltrating tumor is a tumor of any grade\\nthat grows into surrounding tissue.\\nGALE ENCYCLOPEDIA OF MEDICINE 2 569\\nBrain tumor\\nGEM -0433 to 0624 - B  10/22/03 6:08 PM  Page 569')]\n"
     ]
    }
   ],
   "source": [
    "# Run a query\n",
    "response = rag_chain_with_source.invoke(\"explain about brain tumour\")\n",
    "print(\"Answer:\", response[\"answer\"].content)\n",
    "print(\"Retrieved Context:\", response[\"context\"])"
   ]
  },
  {
   "cell_type": "code",
   "execution_count": 41,
   "metadata": {},
   "outputs": [
    {
     "name": "stdout",
     "output_type": "stream",
     "text": [
      "Retrieval Evaluation Metrics: {'Precision@k': 0.092226148409894, 'Recall@k': 0.46113074204946997}\n"
     ]
    }
   ],
   "source": [
    "# Evaluate the retriever\n",
    "evaluation_metrics = evaluate_retrieval(retriever, ground_truth, k=5)\n",
    "print(\"Retrieval Evaluation Metrics:\", evaluation_metrics)"
   ]
  },
  {
   "cell_type": "code",
   "execution_count": 51,
   "metadata": {},
   "outputs": [
    {
     "name": "stdout",
     "output_type": "stream",
     "text": [
      "Generated responses saved to: /Users/innovapathinc/Desktop/Gen Ai Topics /Retrieval_eval/ML_GenAI_Concepts/RAG/generated_responses.json\n"
     ]
    }
   ],
   "source": [
    "import json\n",
    "\n",
    "# Define your RAG chain or model\n",
    "# Assuming `rag_chain_with_source` is already initialized\n",
    "# Example: response = rag_chain_with_source.invoke(\"query\")\n",
    "\n",
    "# Queries to generate responses for\n",
    "queries = [\n",
    "    \"explain about brain tumour\",\n",
    "    \"what are the symptoms of diabetes\",\n",
    "    \"treatment options for hypertension\"\n",
    "]\n",
    "\n",
    "# Path to save the generated responses\n",
    "output_file = \"/Users/innovapathinc/Desktop/Gen Ai Topics /Retrieval_eval/ML_GenAI_Concepts/RAG/generated_responses.json\"\n",
    "\n",
    "# List to store generated responses\n",
    "generated_responses = []\n",
    "\n",
    "# Generate and store responses\n",
    "for query in queries:\n",
    "    response = rag_chain_with_source.invoke(query)  # Call your RAG pipeline\n",
    "    # Ensure retrieved context and answer are strings\n",
    "    generated_responses.append({\n",
    "        \"query\": query,\n",
    "        \"generated_answer\": response[\"answer\"].content if hasattr(response[\"answer\"], \"content\") else str(response[\"answer\"]),\n",
    "        \"retrieved_context\": str(response[\"context\"])  # Convert the context to string\n",
    "    })\n",
    "\n",
    "# Save the generated responses to a JSON file\n",
    "with open(output_file, \"w\") as file:\n",
    "    json.dump(generated_responses, file, indent=4)\n",
    "\n",
    "print(f\"Generated responses saved to: {output_file}\")\n"
   ]
  },
  {
   "cell_type": "code",
   "execution_count": null,
   "metadata": {},
   "outputs": [
    {
     "name": "stdout",
     "output_type": "stream",
     "text": [
      "{'Average BLEU Score': 0.1304316792244985, 'Average ROUGE Score': {'rouge-1': {'f': 0.6333333283333334, 'p': 0.6333333333333333, 'r': 0.6333333333333333}, 'rouge-2': {'f': 0.12499999750000004, 'p': 0.125, 'r': 0.125}, 'rouge-l': {'f': 0.6333333283333334, 'p': 0.6333333333333333, 'r': 0.6333333333333333}}}\n",
      "Answer: Treatment options for hypertension include ACE inhibitors, which are prescription medications that help control high blood pressure and may need to be taken for life. Additionally, lifestyle changes such as avoiding salty foods and maintaining a healthy weight are important. Regular physician check-ups are necessary to monitor blood pressure and adjust treatment as needed.\n"
     ]
    }
   ],
   "source": [
    "from nltk.translate.bleu_score import sentence_bleu, SmoothingFunction\n",
    "from rouge import Rouge\n",
    "\n",
    "def evaluate_bleu_rouge(responses, ground_truths):\n",
    "    \"\"\"\n",
    "    Evaluate LLM-generated responses using BLEU and ROUGE scores.\n",
    "\n",
    "    Args:\n",
    "        responses (list of str): List of responses generated by the LLM.\n",
    "        ground_truths (list of str): List of ground truth answers.\n",
    "\n",
    "    Returns:\n",
    "        dict: A dictionary containing BLEU and ROUGE scores.\n",
    "    \"\"\"\n",
    "    assert len(responses) == len(ground_truths), \"Responses and ground truths must have the same length.\"\n",
    "\n",
    "    # Initialize scores\n",
    "    total_bleu_score = 0\n",
    "    rouge = Rouge()\n",
    "    rouge_scores = []\n",
    "\n",
    "    # Evaluate each response\n",
    "    for response, ground_truth in zip(responses, ground_truths):\n",
    "        # Compute BLEU score\n",
    "        bleu_score = sentence_bleu(\n",
    "            [ground_truth.split()], response.split(),\n",
    "            smoothing_function=SmoothingFunction().method1\n",
    "        )\n",
    "        total_bleu_score += bleu_score\n",
    "\n",
    "        # Compute ROUGE scores\n",
    "        rouge_score = rouge.get_scores(response, ground_truth, avg=True)\n",
    "        rouge_scores.append(rouge_score)\n",
    "\n",
    "    # Average BLEU score \n",
    "    avg_bleu_score = total_bleu_score / len(responses)\n",
    "\n",
    "    # Average ROUGE scores\n",
    "    avg_rouge_score = {\n",
    "        \"rouge-1\": {\n",
    "            \"f\": sum(score[\"rouge-1\"][\"f\"] for score in rouge_scores) / len(rouge_scores),\n",
    "            \"p\": sum(score[\"rouge-1\"][\"p\"] for score in rouge_scores) / len(rouge_scores),\n",
    "            \"r\": sum(score[\"rouge-1\"][\"r\"] for score in rouge_scores) / len(rouge_scores),\n",
    "        },\n",
    "        \"rouge-2\": {\n",
    "            \"f\": sum(score[\"rouge-2\"][\"f\"] for score in rouge_scores) / len(rouge_scores),\n",
    "            \"p\": sum(score[\"rouge-2\"][\"p\"] for score in rouge_scores) / len(rouge_scores),\n",
    "            \"r\": sum(score[\"rouge-2\"][\"r\"] for score in rouge_scores) / len(rouge_scores),\n",
    "        },\n",
    "        \"rouge-l\": {\n",
    "            \"f\": sum(score[\"rouge-l\"][\"f\"] for score in rouge_scores) / len(rouge_scores),\n",
    "            \"p\": sum(score[\"rouge-l\"][\"p\"] for score in rouge_scores) / len(rouge_scores),\n",
    "            \"r\": sum(score[\"rouge-l\"][\"r\"] for score in rouge_scores) / len(rouge_scores),\n",
    "        },\n",
    "    }\n",
    "\n",
    "    return {\n",
    "        \"Average BLEU Score\": avg_bleu_score,\n",
    "        \"Average ROUGE Score\": avg_rouge_score,\n",
    "    }\n",
    "\n",
    "responses = [\n",
    "    \"This is a generated response.\",\n",
    "    \"Another generated response.\"\n",
    "]\n",
    "ground_truths = [\n",
    "    \"This is the expected response.\",\n",
    "    \"Another correct response.\"\n",
    "]\n",
    "\n",
    "scores = evaluate_bleu_rouge(responses, ground_truths)\n",
    "print(scores)\n",
    "print(\"Answer:\", response[\"answer\"].content)"
   ]
  }
 ],
 "metadata": {
  "kernelspec": {
   "display_name": "Python 3",
   "language": "python",
   "name": "python3"
  },
  "language_info": {
   "codemirror_mode": {
    "name": "ipython",
    "version": 3
   },
   "file_extension": ".py",
   "mimetype": "text/x-python",
   "name": "python",
   "nbconvert_exporter": "python",
   "pygments_lexer": "ipython3",
   "version": "3.12.6"
  }
 },
 "nbformat": 4,
 "nbformat_minor": 2
}
