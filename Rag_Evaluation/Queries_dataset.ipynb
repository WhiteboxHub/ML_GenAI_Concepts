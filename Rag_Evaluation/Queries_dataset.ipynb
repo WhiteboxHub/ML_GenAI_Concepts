{
 "cells": [
  {
   "cell_type": "code",
   "execution_count": 5,
   "metadata": {},
   "outputs": [
    {
     "name": "stdout",
     "output_type": "stream",
     "text": [
      "Dataset created and saved to medical_dataset.json.\n"
     ]
    }
   ],
   "source": [
    "from langchain_community.document_loaders import PyPDFLoader\n",
    "from langchain.text_splitter import RecursiveCharacterTextSplitter\n",
    "import json\n",
    "\n",
    "def create_medical_dataset(pdf_path, section_headers, output_file=\"medical_dataset.json\"):\n",
    "    \"\"\"\n",
    "    Create a dataset from a structured medical book PDF.\n",
    "\n",
    "    Args:\n",
    "        pdf_path (str): Path to the PDF file.\n",
    "        section_headers (list): List of keywords indicating the start of sections (e.g., medical terms or categories).\n",
    "        output_file (str): Name of the output JSON file.\n",
    "\n",
    "    Returns:\n",
    "        list: Dataset containing queries, ground truth documents, and answers.\n",
    "    \"\"\"\n",
    "    # Load the PDF content\n",
    "    loader = PyPDFLoader(pdf_path)\n",
    "    docs = loader.load()\n",
    "\n",
    "    # Split the text into manageable chunks\n",
    "    text_splitter = RecursiveCharacterTextSplitter(chunk_size=1000, chunk_overlap=200)\n",
    "    chunks = text_splitter.split_documents(docs)\n",
    "\n",
    "    dataset = []\n",
    "\n",
    "    # Process each chunk to identify sections and extract Q&A\n",
    "    for chunk in chunks:\n",
    "        content = chunk.page_content\n",
    "\n",
    "        for header in section_headers:\n",
    "            if header in content:\n",
    "                # Split content by the section header\n",
    "                parts = content.split(header)\n",
    "                for part in parts[1:]:  # Skip the first part before the header\n",
    "                    lines = part.strip().split(\"\\n\", 1)\n",
    "                    if len(lines) > 1:\n",
    "                        question = header.strip() + \" \" + lines[0].strip()\n",
    "                        answer = lines[1].strip()\n",
    "\n",
    "                        # Store in dataset\n",
    "                        dataset.append({\n",
    "                            \"query\": question,\n",
    "                            \"ground_truth_document\": content,\n",
    "                            \"ground_truth_answer\": answer,\n",
    "                        })\n",
    "\n",
    "    # Save the dataset to a JSON file\n",
    "    with open(output_file, \"w\") as f:\n",
    "        json.dump(dataset, f, indent=4)\n",
    "\n",
    "    print(f\"Dataset created and saved to {output_file}.\")\n",
    "    return dataset\n",
    "\n",
    "# Example Usage\n",
    "pdf_path = \"/Users/innovapathinc/Desktop/Gen Ai Topics /Retrieval_eval/ML_GenAI_Concepts/RAG/Data/Medical_book.pdf\"\n",
    "section_headers = [\"What is\", \"Treatment\", \"Symptoms\", \"Causes\"]  # Update based on your book's structure\n",
    "dataset = create_medical_dataset(pdf_path, section_headers)\n"
   ]
  }
 ],
 "metadata": {
  "kernelspec": {
   "display_name": "Python 3",
   "language": "python",
   "name": "python3"
  },
  "language_info": {
   "codemirror_mode": {
    "name": "ipython",
    "version": 3
   },
   "file_extension": ".py",
   "mimetype": "text/x-python",
   "name": "python",
   "nbconvert_exporter": "python",
   "pygments_lexer": "ipython3",
   "version": "3.12.6"
  }
 },
 "nbformat": 4,
 "nbformat_minor": 2
}
