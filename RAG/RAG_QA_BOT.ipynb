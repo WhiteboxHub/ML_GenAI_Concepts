{
  "cells": [
    {
      "cell_type": "code",
      "execution_count": 1,
      "metadata": {
        "id": "4nL2i6ddqrNK"
      },
      "outputs": [],
      "source": [
        "\n",
        "api_key=\"Your_API_key\"\n"
      ]
    },
    {
      "cell_type": "markdown",
      "metadata": {},
      "source": [
        "***Go to This website for mistral api***\n",
        "### https://console.mistral.ai/api-keys/ ###"
      ]
    },
    {
      "cell_type": "code",
      "execution_count": null,
      "metadata": {
        "colab": {
          "base_uri": "https://localhost:8080/"
        },
        "id": "2W0avHn01vSc",
        "outputId": "0bd8ae99-b4ae-43aa-d586-0718ca3cac79"
      },
      "outputs": [],
      "source": [
        "!pip install langchain-mistralai\n",
        "!pip install -q -U faiss-cpu tiktoken\n",
        "!pip install -qU langchain_community beautifulsoup4\n",
        "!pip install langchain\n",
        "!pip install sentence-transformers\n",
        "!pip install langchain-chroma\n",
        "!pip install -qU langchain_community pypdf"
      ]
    },
    {
      "cell_type": "code",
      "execution_count": 3,
      "metadata": {
        "id": "S1IGzS-8cFmT"
      },
      "outputs": [
        {
          "name": "stderr",
          "output_type": "stream",
          "text": [
            "USER_AGENT environment variable not set, consider setting it to identify your requests.\n"
          ]
        }
      ],
      "source": [
        "from langchain_community.document_loaders import WebBaseLoader\n",
        "\n",
        "# List of URLs to load content from\n",
        "urls = [\n",
        "    \"https://lucidmotors.com/\",\n",
        "    \"https://lucidmotors.com/referral-program\",\n",
        "    \"https://lucidmotors.com/gravity\",\n",
        "    \"https://lucidmotors.com/company\",\n",
        "    \"https://lucidmotors.com/sustainability\",\n",
        "    \"https://lucidmotors.com/careers\"# Add more URLs as needed\n",
        "]\n",
        "\n",
        "# Load content from multiple URLs\n",
        "Lucid_loader = []\n",
        "for url in urls:\n",
        "    loader = WebBaseLoader(url)\n",
        "    Lucid_loader.extend(loader.load())\n"
      ]
    },
    {
      "cell_type": "code",
      "execution_count": null,
      "metadata": {
        "colab": {
          "base_uri": "https://localhost:8080/"
        },
        "id": "1E_YmIV8w3U3",
        "outputId": "89c807a7-303e-42a0-95ec-31b035d5e3f1"
      },
      "outputs": [],
      "source": [
        "# from langchain_community.document_loaders import PyPDFLoader\n",
        "\n",
        "# loader = PyPDFLoader(\n",
        "#     r\"C:\\Users\\dhira\\GenAIproject\\ML_GenAI_Concepts\\RAG\\Data\\Lucid-Air-Sapphire-Owners-Manual_en-US.pdf\",\n",
        "#     r\"C:\\Users\\dhira\\GenAIproject\\ML_GenAI_Concepts\\RAG\\Data\\Lucid-Group-Inc-2023-Sustainability-Report.pdf\"\n",
        "# )\n",
        "# pdf=loader.load()\n"
      ]
    },
    {
      "cell_type": "code",
      "execution_count": 5,
      "metadata": {
        "id": "tlmq68c7cbji"
      },
      "outputs": [],
      "source": [
        "from langchain.text_splitter import CharacterTextSplitter\n",
        "text_splitter = CharacterTextSplitter(\n",
        "\tseparator=\"\\n\\n\",\n",
        "\tchunk_size=500,\n",
        "\tchunk_overlap=0,\n",
        "\tis_separator_regex=False,)"
      ]
    },
    {
      "cell_type": "code",
      "execution_count": 6,
      "metadata": {
        "colab": {
          "base_uri": "https://localhost:8080/"
        },
        "id": "7uL_xIk_dNC5",
        "outputId": "85cf91d1-d883-41b9-bd9d-6c863acc8e37"
      },
      "outputs": [
        {
          "name": "stderr",
          "output_type": "stream",
          "text": [
            "Created a chunk of size 2818, which is longer than the specified 500\n",
            "Created a chunk of size 1213, which is longer than the specified 500\n",
            "Created a chunk of size 3173, which is longer than the specified 500\n",
            "Created a chunk of size 1715, which is longer than the specified 500\n"
          ]
        }
      ],
      "source": [
        "Lucid_chunks = text_splitter.split_documents(Lucid_loader)"
      ]
    },
    {
      "cell_type": "code",
      "execution_count": 7,
      "metadata": {
        "colab": {
          "base_uri": "https://localhost:8080/"
        },
        "id": "9v-kRuHaoyrp",
        "outputId": "5df753a6-600b-4968-c7be-86f288d34e62"
      },
      "outputs": [
        {
          "name": "stderr",
          "output_type": "stream",
          "text": [
            "C:\\Users\\dhira\\AppData\\Local\\Temp\\ipykernel_33260\\481470647.py:10: LangChainDeprecationWarning: The class `HuggingFaceEmbeddings` was deprecated in LangChain 0.2.2 and will be removed in 1.0. An updated version of the class exists in the :class:`~langchain-huggingface package and should be used instead. To use it run `pip install -U :class:`~langchain-huggingface` and import as `from :class:`~langchain_huggingface import HuggingFaceEmbeddings``.\n",
            "  core_embeddings_model = HuggingFaceEmbeddings(model_name=\"sentence-transformers/all-MiniLM-L6-v2\")\n",
            "c:\\Users\\dhira\\GenAIproject\\ML_GenAI_Concepts\\envRAG\\lib\\site-packages\\sentence_transformers\\cross_encoder\\CrossEncoder.py:13: TqdmWarning: IProgress not found. Please update jupyter and ipywidgets. See https://ipywidgets.readthedocs.io/en/stable/user_install.html\n",
            "  from tqdm.autonotebook import tqdm, trange\n"
          ]
        }
      ],
      "source": [
        "\n",
        "from langchain.embeddings import HuggingFaceEmbeddings\n",
        "from langchain.embeddings.cache import CacheBackedEmbeddings\n",
        "from langchain.vectorstores import Chroma\n",
        "from langchain.storage import LocalFileStore\n",
        "\n",
        "# Set up the cache store\n",
        "store = LocalFileStore(\"./cache/\")\n",
        "\n",
        "# Initialize the Hugging Face embedding model\n",
        "core_embeddings_model = HuggingFaceEmbeddings(model_name=\"sentence-transformers/all-MiniLM-L6-v2\")\n",
        "\n",
        "# Use the cache-backed embedder with the Hugging Face model\n",
        "embedder = CacheBackedEmbeddings.from_bytes_store(\n",
        "    core_embeddings_model,\n",
        "    store,\n",
        "    namespace=core_embeddings_model.model_name\n",
        ")\n",
        "\n",
        "# Store embeddings in the Chroma vector store\n",
        "vectorstore = Chroma.from_documents(Lucid_chunks, embedder, persist_directory=\"./chroma_store\")\n",
        "\n",
        "# Instantiate a retriever from the vector store\n",
        "retriever = vectorstore.as_retriever()\n"
      ]
    },
    {
      "cell_type": "code",
      "execution_count": 9,
      "metadata": {
        "id": "sBhjCMuVp10c"
      },
      "outputs": [],
      "source": [
        "from langchain_mistralai import ChatMistralAI\n",
        "from langchain_core.prompts import ChatPromptTemplate\n",
        "from langchain_core.runnables import RunnablePassthrough, RunnableParallel\n",
        "\n",
        "# this formats the docs returned by the retriever\n",
        "def format_docs(docs):\n",
        "\treturn \"\\n\\n\".join(doc.page_content for doc in docs)\n",
        "\n",
        "# prompt to send to the LLM\n",
        "prompt = \"\"\"You are an assistant for question-answering tasks.\n",
        "    \tUse the following pieces of retrieved context to answer the question.\n",
        "    \tIf you don't know the answer, just say that you don't know.\n",
        "    \tUse three sentences maximum and keep the answer concise.\n",
        "\n",
        "    \tQuestion: {question}\n",
        "\n",
        "    \tContext: {context}\n",
        "\n",
        "    \tAnswer:\n",
        "    \t\"\"\"\n",
        "\n",
        "prompt_template = ChatPromptTemplate.from_template(prompt)\n",
        "\n",
        "# llm = ChatMistralAI(model='gpt-4o-mini', streaming=True)\n",
        "llm = ChatMistralAI(\n",
        "    model=\"mistral-large-latest\", streaming=True, api_key=api_key)\n",
        "\n",
        "\n",
        "# This code defines a chain where input documents are first formatted, then passed through a prompt template, and finally processed by an LLM.\n",
        "rag_chain_from_docs = (\n",
        "\tRunnablePassthrough.assign(context=(lambda x: format_docs(x[\"context\"])))\n",
        "\t| prompt_template\n",
        "\t| llm\n",
        "\t)\n",
        "# This code creates a parallel process: one retrieves the context (using a retriever), and the other passes the question through unchanged. The results are then combined and assigned to the variable `answer` using the `rag_chain_from_docs` processing chain.\n",
        "rag_chain_with_source = RunnableParallel(\n",
        "\t{\"context\": retriever, \"question\": RunnablePassthrough()}\n",
        ").assign(answer=rag_chain_from_docs)"
      ]
    },
    {
      "cell_type": "code",
      "execution_count": 10,
      "metadata": {
        "colab": {
          "base_uri": "https://localhost:8080/"
        },
        "id": "uaWUiIXDrf7p",
        "outputId": "fa42b22b-0576-4753-ef93-496e4f5dc72a"
      },
      "outputs": [
        {
          "name": "stdout",
          "output_type": "stream",
          "text": [
            "Lucid provides electric cars, specifically the Lucid Air (a luxury sedan) and the upcoming Lucid Gravity (an SUV). Their models include the Air Pure, Touring, Grand Touring, and Sapphire.\n",
            "[Document(metadata={'description': 'Lucid is the future of sustainable mobility, designing electric cars that further reimagines the driving experience.', 'language': 'en', 'source': 'https://lucidmotors.com/', 'title': 'Home | Lucid Motors'}, page_content=\"Skip to main content   Lucid drives the world forward - now starting from $69,900.View Offers Lucid AirLucid GravityExperienceShopUSMenu   Accelerating the EV&nbspExperienceBUY FROM$69,900¹Air PureCHARGING ALLOWANCE$1,000on Lucid charging accessoriesLUCID CARE2 yr or 24,000&nbspmi²free scheduled maintenanceTEST DRIVEORDERPROJECTED RANGEUp to 440 mi³SEATINGUp to 7STAY INFORMEDEXPLOREMost Advanced Electric\\xa0Car.Designed in California; Assembled\\xa0in\\xa0America;Engineered to Change the World. Current OffersExplore Current OffersLocationsExplore LocationsLucid Air Pure.  Range, performance, efficiency, and space. Explore1 / 4Lucid StoriesView AllView All     Lucid AirExplore Lucid AirPureTouringGrand TouringSapphireDesign YoursAvailable CarsTest DriveLucid GravityExplore Lucid GravityRoad to Lucid Gravity VideosStay InformedLucid MotorsCompanyLeadershipCareersLucid × Four SeasonsStoriesTech TalksInvestorsMoreOwnershipReferral ProgramAccessories and LifestyleContact UsLocationsEventsMedia RoomAwards and AccoladesKnowledge Center©2024 Lucid. All rights reservedLegalPrivacy PolicyCookie SettingsDo Not Sell or Share My Personal Information  1. Excludes tax, title, license, options, destination and documentation fees. Vehicle may be shown here with options.2. See https://lucidmotors.com/stories/lucid-offers-two-year-complimentary-maintenance for more details and limitations.3. Manufacturer's projected estimate for top trim based on preproduction specifications; EPA estimates will be provided when available. Range and battery power vary with temperature, driving habits, charging and battery condition and actual results will vary.\"), Document(metadata={'description': 'Make an impact on a global scale, helping introduce technology committed to a more sustainable future of mobility. Choose a career with Lucid Motors.', 'language': 'en', 'source': 'https://lucidmotors.com/careers', 'title': 'Careers'}, page_content='Skip to main content   Lucid drives the world forward - now starting from $69,900.View Offers Lucid AirLucid GravityExperienceShopUSMenu   CareersExplore open positionsAt Lucid, through technology, we create exceptional experiences to drive the world forward.We launched our first product, the Lucid Air in late 2021 and it was immediately praised for its unprecedented combination of performance, driving range, design, and practicality. It is now the most awarded new luxury vehicle in America. And we are just getting started. Join Lucid and help us as we prepare for the introduction of the Lucid Gravity SUV, followed by our midsize vehicle program, which will bring Lucid into the mainstream automotive market. In our facilities in California, Arizona, Michigan we are creating a positive and productive community for innovators and tech leaders. Diversity, equity, inclusion is an essential part of who we are. We value the diverse perspectives, experiences, and identities of our employees who reflect the communities we serve. Joining the team here at Lucid will allow you to leave a lasting impact on a global scale. All with a passion for preserving our planet.Breakthrough InnovationWe design and engineer products and experiences that are visionary, meaningful, and enduring.Ownership MindsetWe anchor on our mission and take accountability for our own and others’ actions unrestrained by role boundaries.Integrity in ActionWe have an unwavering commitment to deliver a positive return for our company, our customers, and community.One TeamWe seek diversity of thought and background, and inspire the way the world moves forward together as one team.Passion for ExcellenceWe are hyper vigilant to deliver results for our customers that profoundly and positively impact our planet.Act with UrgencyWe act promptly and with intention. We move fast, spot and seize opportunities, and do what needs to be done without being asked.CultureWorkplace cultureWork alongside some of the most accomplished minds in the automotive and technology industries.Beyond competitive salaries — and stock for every employee at every level — we are creating a community for innovators who want to make a significant and immediate contribution to the future of sustainable transportation.Find out moreDiversity, Equity, and InclusionWorkplace diversityAt Lucid, we don’t just welcome diversity\\n — we celebrate it.Lucid Motors is proud to be an equal opportunity workplace. We are committed to equal employment opportunity regardless of race, color, national or ethnic origin, age, religion, disability, sexual orientation, gender, gender identity and expression, marital status, and any other characteristic protected under applicable State or Federal laws and regulations.Find out moreWork with usFind a role that’s right for you.Explore open positions    Lucid AirExplore Lucid AirPureTouringGrand TouringSapphireDesign YoursAvailable CarsTest DriveLucid GravityExplore Lucid GravityRoad to Lucid Gravity VideosStay InformedLucid MotorsCompanyLeadershipCareersLucid × Four SeasonsStoriesTech TalksInvestorsMoreOwnershipReferral ProgramAccessories and LifestyleContact UsLocationsEventsMedia RoomAwards and AccoladesKnowledge Center©2024 Lucid. All rights reservedLegalPrivacy PolicyCookie SettingsDo Not Sell or Share My Personal Information'), Document(metadata={'description': 'Lucid is the future of sustainable mobility, designing electric cars that further reimagines the driving experience.', 'language': 'en', 'source': 'https://lucidmotors.com/', 'title': 'Home | Lucid Motors'}, page_content='Home | Lucid Motors'), Document(metadata={'description': 'There were EVs, and now there’s Lucid Motors. Learn about our commitment to the future of sustainable mobility and our leadership team.', 'language': 'en', 'source': 'https://lucidmotors.com/company', 'title': 'Company | Lucid Motors'}, page_content='Skip to main content   Lucid drives the world forward - now starting from $69,900.View Offers Lucid AirLucid GravityExperienceShopUSMenu   CompanyThrough technology we create exceptional experiences to drive the world forward.At LucidWe are driving a revolution.One that compromises nothingby obsessing over everything.Performance that defies limits.Going farther with less.Space large enough for life.Design that’s impossible to ignore.All with a passion for preserving our planet.Here’s to advancing technologythat drives the world forward.SustainabilityWe aim to create sustainable mobility without compromise in cars that are intuitive, liberating, and designed for all the ways people get around. At Lucid, we place an exceptionally high priority on efficiency — our cars must make the best possible use of the world’s resources. So, every Lucid delivers exceptional range without sacrificing high performance or sublime comfort.DiscoverLeadershipLucid’s leadership team brings to our Silicon Valley headquarters an extraordinary depth of knowledge and experience from the automotive and technology industries. They’re leading us forward to a more sustainable future as we use proprietary electric vehicle technology to reinvent the category for each type of car we build.\\r\\nDiscoverCareersCome work alongside some of the most accomplished minds in the automotive and technology industries. Beyond competitive salaries, we are creating a community for innovators who want to make a significant — and immediate — contribution to the future of sustainable mobility.DiscoverLucid Motors FactoryAfter evaluating over 60 sites in 13 states for the Lucid Motors factory, we chose a 500-acre property in Casa Grande, Arizona. Located between Phoenix and Tucson — and within easy reach of our Silicon Valley headquarters — the Casa Grande offered close proximity to critical utilities, an established transportation system, and strong support from state and local governments.This facility is the first greenfield — or purpose-built — EV factory in North America. Designed to our exact specifications, it is being built with such efficiency and speed that we will complete construction of its first phase a mere 12 months after breaking ground. Outfitted with the world’s most advanced production line equipment, the factory will have the initial capacity to produce 10,000 cars a year — and over 300,000 annually with planned expansion.    Lucid AirExplore Lucid AirPureTouringGrand TouringSapphireDesign YoursAvailable CarsTest DriveLucid GravityExplore Lucid GravityRoad to Lucid Gravity VideosStay InformedLucid MotorsCompanyLeadershipCareersLucid × Four SeasonsStoriesTech TalksInvestorsMoreOwnershipReferral ProgramAccessories and LifestyleContact UsLocationsEventsMedia RoomAwards and AccoladesKnowledge Center©2024 Lucid. All rights reservedLegalPrivacy PolicyCookie SettingsDo Not Sell or Share My Personal Information')]\n"
          ]
        }
      ],
      "source": [
        "\n",
        "response = rag_chain_with_source.invoke(\"what type of cars they provide?\")\n",
        "print(response['answer'].content)\n",
        "print(response['context'])"
      ]
    },
    {
      "cell_type": "code",
      "execution_count": 11,
      "metadata": {
        "colab": {
          "base_uri": "https://localhost:8080/"
        },
        "id": "hgILXVKutOwQ",
        "outputId": "6da16540-cb6f-4794-f09e-8a8fbc95e76d"
      },
      "outputs": [
        {
          "name": "stdout",
          "output_type": "stream",
          "text": [
            "Lucid Motors is a luxury vehicle company. They launched their first product, the Lucid Air, in late 2021. The company focuses on sustainability and innovation in the automotive industry.\n",
            "[Document(metadata={'description': 'There were EVs, and now there’s Lucid Motors. Learn about our commitment to the future of sustainable mobility and our leadership team.', 'language': 'en', 'source': 'https://lucidmotors.com/company', 'title': 'Company | Lucid Motors'}, page_content='Company | Lucid Motors'), Document(metadata={'description': 'Lucid is the future of sustainable mobility, designing electric cars that further reimagines the driving experience.', 'language': 'en', 'source': 'https://lucidmotors.com/', 'title': 'Home | Lucid Motors'}, page_content='Home | Lucid Motors'), Document(metadata={'description': \"Lucid creates sustainable and efficient zero-emission luxury electric vehicles that make the most responsible use of the earth's resources.\", 'language': 'en', 'source': 'https://lucidmotors.com/sustainability', 'title': 'Sustainability | Lucid Motors'}, page_content='Sustainability | Lucid Motors'), Document(metadata={'description': 'Make an impact on a global scale, helping introduce technology committed to a more sustainable future of mobility. Choose a career with Lucid Motors.', 'language': 'en', 'source': 'https://lucidmotors.com/careers', 'title': 'Careers'}, page_content='Skip to main content   Lucid drives the world forward - now starting from $69,900.View Offers Lucid AirLucid GravityExperienceShopUSMenu   CareersExplore open positionsAt Lucid, through technology, we create exceptional experiences to drive the world forward.We launched our first product, the Lucid Air in late 2021 and it was immediately praised for its unprecedented combination of performance, driving range, design, and practicality. It is now the most awarded new luxury vehicle in America. And we are just getting started. Join Lucid and help us as we prepare for the introduction of the Lucid Gravity SUV, followed by our midsize vehicle program, which will bring Lucid into the mainstream automotive market. In our facilities in California, Arizona, Michigan we are creating a positive and productive community for innovators and tech leaders. Diversity, equity, inclusion is an essential part of who we are. We value the diverse perspectives, experiences, and identities of our employees who reflect the communities we serve. Joining the team here at Lucid will allow you to leave a lasting impact on a global scale. All with a passion for preserving our planet.Breakthrough InnovationWe design and engineer products and experiences that are visionary, meaningful, and enduring.Ownership MindsetWe anchor on our mission and take accountability for our own and others’ actions unrestrained by role boundaries.Integrity in ActionWe have an unwavering commitment to deliver a positive return for our company, our customers, and community.One TeamWe seek diversity of thought and background, and inspire the way the world moves forward together as one team.Passion for ExcellenceWe are hyper vigilant to deliver results for our customers that profoundly and positively impact our planet.Act with UrgencyWe act promptly and with intention. We move fast, spot and seize opportunities, and do what needs to be done without being asked.CultureWorkplace cultureWork alongside some of the most accomplished minds in the automotive and technology industries.Beyond competitive salaries — and stock for every employee at every level — we are creating a community for innovators who want to make a significant and immediate contribution to the future of sustainable transportation.Find out moreDiversity, Equity, and InclusionWorkplace diversityAt Lucid, we don’t just welcome diversity\\n — we celebrate it.Lucid Motors is proud to be an equal opportunity workplace. We are committed to equal employment opportunity regardless of race, color, national or ethnic origin, age, religion, disability, sexual orientation, gender, gender identity and expression, marital status, and any other characteristic protected under applicable State or Federal laws and regulations.Find out moreWork with usFind a role that’s right for you.Explore open positions    Lucid AirExplore Lucid AirPureTouringGrand TouringSapphireDesign YoursAvailable CarsTest DriveLucid GravityExplore Lucid GravityRoad to Lucid Gravity VideosStay InformedLucid MotorsCompanyLeadershipCareersLucid × Four SeasonsStoriesTech TalksInvestorsMoreOwnershipReferral ProgramAccessories and LifestyleContact UsLocationsEventsMedia RoomAwards and AccoladesKnowledge Center©2024 Lucid. All rights reservedLegalPrivacy PolicyCookie SettingsDo Not Sell or Share My Personal Information')]\n"
          ]
        }
      ],
      "source": [
        "response = rag_chain_with_source.invoke(\"what type of lucid company\")\n",
        "print(response['answer'].content)\n",
        "print(response['context'])"
      ]
    },
    {
      "cell_type": "code",
      "execution_count": 12,
      "metadata": {
        "colab": {
          "base_uri": "https://localhost:8080/"
        },
        "id": "LMgNaoMatVKq",
        "outputId": "762b7f54-a9a3-4c38-9244-91131ad8ac51"
      },
      "outputs": [
        {
          "name": "stdout",
          "output_type": "stream",
          "text": [
            "I don't know. The provided context does not contain information about \"GenerativeAI.\"\n",
            "[Document(metadata={'description': 'The Lucid Referral Program celebrates our most passionate advocates with vehicle discounts as well as exclusive Lucid rewards and experiences.', 'language': 'en', 'source': 'https://lucidmotors.com/referral-program', 'title': 'Referral Program | Lucid Motors'}, page_content='How It Works'), Document(metadata={'description': 'The Lucid Referral Program celebrates our most passionate advocates with vehicle discounts as well as exclusive Lucid rewards and experiences.', 'language': 'en', 'source': 'https://lucidmotors.com/referral-program', 'title': 'Referral Program | Lucid Motors'}, page_content='Eligibility'), Document(metadata={'description': \"Lucid creates sustainable and efficient zero-emission luxury electric vehicles that make the most responsible use of the earth's resources.\", 'language': 'en', 'source': 'https://lucidmotors.com/sustainability', 'title': 'Sustainability | Lucid Motors'}, page_content='Skip to main content   Lucid drives the world forward - now starting from $69,900.View Offers Lucid AirLucid GravityExperienceShopUSMenu   Sustainability  Check out our social/environmental impactOur 2023 Sustainability Report provides a qualitative description of the sustainable impact of our products and processes. It outlines our first steps in our sustainability mission as we endeavor to improve on our impact on the planet and society in the months and years to come.downloadGreater Efficiency for the Greater GoodFor Lucid, efficiency means using less materials and energy to do more, while being intentional about our use of the planet’s resources. Our commitment to efficiency has created one of the fastest-charging, longest range, and most efficient EVs. By using fewer batteries and less grid electricity, we’ve reduced the demand for critical materials and their environmental impact.\\xa0EV change is hereWe are committed to inspiring the adoption of sustainable energy through our advanced technologies. Our technological innovations are revolutionizing mobility, improving safety, and building the foundations for a zero-emissions future.Our people make a world of differenceWe believe supporting our employees and communities is key to a more sustainable future. We are driving a mindset and culture of sustainability at Lucid because we know that we can make an impact beyond the walls of our organization.United Nations Global CompactLucid is a proud participant of the United Nations Global Compact (UN Global Compact), the world’s largest voluntary corporate sustainability initiative. The UN Global Compact challenges companies to conduct business responsibly by aligning their operations and strategies with the UN’s Ten Principles which pertain to human rights, labor, environmental practices, and anti-corruption. It also commits companies to take actions in accordance with the UN Sustainable Development Goals (SDGs). These goals provide a powerful aspiration for businesses, governments, civil society, and citizens to make a better world.Driving the World ForwardWe believe doing great things goes hand-in-hand with doing the right thing. When we don’t compromise on our ideals and take responsibility for our impact on the planet, we go further. And so does the world.    Lucid AirExplore Lucid AirPureTouringGrand TouringSapphireDesign YoursAvailable CarsTest DriveLucid GravityExplore Lucid GravityRoad to Lucid Gravity VideosStay InformedLucid MotorsCompanyLeadershipCareersLucid × Four SeasonsStoriesTech TalksInvestorsMoreOwnershipReferral ProgramAccessories and LifestyleContact UsLocationsEventsMedia RoomAwards and AccoladesKnowledge Center©2024 Lucid. All rights reservedLegalPrivacy PolicyCookie SettingsDo Not Sell or Share My Personal Information'), Document(metadata={'description': 'There were EVs, and now there’s Lucid Motors. Learn about our commitment to the future of sustainable mobility and our leadership team.', 'language': 'en', 'source': 'https://lucidmotors.com/company', 'title': 'Company | Lucid Motors'}, page_content='Company | Lucid Motors')]\n"
          ]
        }
      ],
      "source": [
        "response = rag_chain_with_source.invoke(\"what is GenarativeAI?\")\n",
        "print(response['answer'].content)\n",
        "print(response['context'])"
      ]
    },
    {
      "cell_type": "code",
      "execution_count": 13,
      "metadata": {
        "colab": {
          "base_uri": "https://localhost:8080/"
        },
        "id": "Wd1fnvA3y_BL",
        "outputId": "91c70bef-9c32-4abb-d697-bf0ddb94d144"
      },
      "outputs": [
        {
          "name": "stdout",
          "output_type": "stream",
          "text": [
            "The Lucid referral program allows existing customers (Referrers) to refer others (Referred Customers) using a unique link. Referrers can earn points or rewards for each qualified referral leading to a purchase or lease of a Lucid vehicle. Participation requires submission of personal information and is void where prohibited by law.\n",
            "[Document(metadata={'description': 'The Lucid Referral Program celebrates our most passionate advocates with vehicle discounts as well as exclusive Lucid rewards and experiences.', 'language': 'en', 'source': 'https://lucidmotors.com/referral-program', 'title': 'Referral Program | Lucid Motors'}, page_content='Participation in the Program may require a Referred Customer and/or a Referrer to submit personal information about themselves. The personal information will be collected, processed and used in accordance with Lucid’s Privacy Policy which can be found at https://lucidmotors.com/legal. In addition, personal information may be used by Lucid on Lucid’s behalf, to contact Referrers with regards to participation in the Program and to receive communications from Lucid.\\r\\n\\n\\r\\nReservations of Rights'), Document(metadata={'description': 'The Lucid Referral Program celebrates our most passionate advocates with vehicle discounts as well as exclusive Lucid rewards and experiences.', 'language': 'en', 'source': 'https://lucidmotors.com/referral-program', 'title': 'Referral Program | Lucid Motors'}, page_content='Referral Program | Lucid Motors'), Document(metadata={'description': 'The Lucid Referral Program celebrates our most passionate advocates with vehicle discounts as well as exclusive Lucid rewards and experiences.', 'language': 'en', 'source': 'https://lucidmotors.com/referral-program', 'title': 'Referral Program | Lucid Motors'}, page_content='Violate the intellectual property rights of Lucid\\nCollect or attempting to collect personal data about customers or potential Referred Customers\\nEngage in any actions that are designed to disrupt or undermine the Program\\nEngage in illegal or fraudulent activities \\nEngage in behavior designed to annoy, harass or spam others\\nEngage in actions that disparage or malign or call into question the reputation of Lucid, in Lucid’s sole discretion'), Document(metadata={'description': 'The Lucid Referral Program celebrates our most passionate advocates with vehicle discounts as well as exclusive Lucid rewards and experiences.', 'language': 'en', 'source': 'https://lucidmotors.com/referral-program', 'title': 'Referral Program | Lucid Motors'}, page_content='This Program is void in states and territories where referral benefits are prohibited by law, including Ohio and Virginia.  Residents of such states or territories are not eligible to participate in the Program.  Existing customers who refer others to the program using their unique referral link are “Referrers”; those who are referred and use the referral link to complete a purchase or lease of a Lucid vehicle are “Referred Customers.” Referrers may be eligible to receive “Points” or a specified reward for every qualified referral as described below. Referrers and Referred Customers must be legally able to participate in the Program, must reside in the United States, and must be an individual who is at least eighteen years of age. When registering for the Program, Referrers must use the same email address that is registered with their existing Lucid account. Referrers must be current Lucid owners who are referring customers without an existing order to become first-time Lucid owners. Referrers who engage in spamming or other unfair or otherwise problematic practices, including creating fake accounts or harassing potential referral sources will be deemed ineligible to participate in the Program.')]\n"
          ]
        }
      ],
      "source": [
        "response = rag_chain_with_source.invoke(\"tell me about lucid referal programe?\")\n",
        "print(response['answer'].content)\n",
        "print(response['context'])"
      ]
    },
    {
      "cell_type": "code",
      "execution_count": null,
      "metadata": {
        "id": "MDcH8zmJ11Gi"
      },
      "outputs": [],
      "source": []
    }
  ],
  "metadata": {
    "colab": {
      "provenance": []
    },
    "kernelspec": {
      "display_name": "Python 3",
      "language": "python",
      "name": "python3"
    },
    "language_info": {
      "codemirror_mode": {
        "name": "ipython",
        "version": 3
      },
      "file_extension": ".py",
      "mimetype": "text/x-python",
      "name": "python",
      "nbconvert_exporter": "python",
      "pygments_lexer": "ipython3",
      "version": "3.12.7"
    }
  },
  "nbformat": 4,
  "nbformat_minor": 0
}
