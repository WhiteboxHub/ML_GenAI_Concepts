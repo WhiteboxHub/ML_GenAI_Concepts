{
 "cells": [
  {
   "cell_type": "code",
   "execution_count": 7,
   "metadata": {},
   "outputs": [
    {
     "name": "stdout",
     "output_type": "stream",
     "text": [
      "Requirement already satisfied: nltk in c:\\users\\ajukh\\appdata\\local\\programs\\python\\python312\\lib\\site-packages (3.9.1)\n",
      "Requirement already satisfied: huggingface in c:\\users\\ajukh\\appdata\\local\\programs\\python\\python312\\lib\\site-packages (0.0.1)\n",
      "Requirement already satisfied: datasets in c:\\users\\ajukh\\appdata\\local\\programs\\python\\python312\\lib\\site-packages (3.0.0)\n",
      "Requirement already satisfied: huggingface_hub in c:\\users\\ajukh\\appdata\\local\\programs\\python\\python312\\lib\\site-packages (0.24.6)\n",
      "Requirement already satisfied: click in c:\\users\\ajukh\\appdata\\local\\programs\\python\\python312\\lib\\site-packages (from nltk) (8.1.7)\n",
      "Requirement already satisfied: joblib in c:\\users\\ajukh\\appdata\\local\\programs\\python\\python312\\lib\\site-packages (from nltk) (1.4.2)\n",
      "Requirement already satisfied: regex>=2021.8.3 in c:\\users\\ajukh\\appdata\\local\\programs\\python\\python312\\lib\\site-packages (from nltk) (2024.7.24)\n",
      "Requirement already satisfied: tqdm in c:\\users\\ajukh\\appdata\\local\\programs\\python\\python312\\lib\\site-packages (from nltk) (4.66.5)\n",
      "Requirement already satisfied: filelock in c:\\users\\ajukh\\appdata\\local\\programs\\python\\python312\\lib\\site-packages (from datasets) (3.15.4)\n",
      "Requirement already satisfied: numpy>=1.17 in c:\\users\\ajukh\\appdata\\local\\programs\\python\\python312\\lib\\site-packages (from datasets) (1.26.4)\n",
      "Requirement already satisfied: pyarrow>=15.0.0 in c:\\users\\ajukh\\appdata\\local\\programs\\python\\python312\\lib\\site-packages (from datasets) (17.0.0)\n",
      "Requirement already satisfied: dill<0.3.9,>=0.3.0 in c:\\users\\ajukh\\appdata\\local\\programs\\python\\python312\\lib\\site-packages (from datasets) (0.3.8)\n",
      "Requirement already satisfied: pandas in c:\\users\\ajukh\\appdata\\local\\programs\\python\\python312\\lib\\site-packages (from datasets) (2.2.2)\n",
      "Requirement already satisfied: requests>=2.32.2 in c:\\users\\ajukh\\appdata\\local\\programs\\python\\python312\\lib\\site-packages (from datasets) (2.32.3)\n",
      "Requirement already satisfied: xxhash in c:\\users\\ajukh\\appdata\\local\\programs\\python\\python312\\lib\\site-packages (from datasets) (3.5.0)\n",
      "Requirement already satisfied: multiprocess in c:\\users\\ajukh\\appdata\\local\\programs\\python\\python312\\lib\\site-packages (from datasets) (0.70.16)\n",
      "Requirement already satisfied: fsspec<=2024.6.1,>=2023.1.0 in c:\\users\\ajukh\\appdata\\local\\programs\\python\\python312\\lib\\site-packages (from fsspec[http]<=2024.6.1,>=2023.1.0->datasets) (2024.6.1)\n",
      "Requirement already satisfied: aiohttp in c:\\users\\ajukh\\appdata\\local\\programs\\python\\python312\\lib\\site-packages (from datasets) (3.10.3)\n",
      "Requirement already satisfied: packaging in c:\\users\\ajukh\\appdata\\roaming\\python\\python312\\site-packages (from datasets) (24.1)\n",
      "Requirement already satisfied: pyyaml>=5.1 in c:\\users\\ajukh\\appdata\\local\\programs\\python\\python312\\lib\\site-packages (from datasets) (6.0.1)\n",
      "Requirement already satisfied: typing-extensions>=3.7.4.3 in c:\\users\\ajukh\\appdata\\local\\programs\\python\\python312\\lib\\site-packages (from huggingface_hub) (4.12.2)\n",
      "Requirement already satisfied: aiohappyeyeballs>=2.3.0 in c:\\users\\ajukh\\appdata\\local\\programs\\python\\python312\\lib\\site-packages (from aiohttp->datasets) (2.3.5)\n",
      "Requirement already satisfied: aiosignal>=1.1.2 in c:\\users\\ajukh\\appdata\\local\\programs\\python\\python312\\lib\\site-packages (from aiohttp->datasets) (1.3.1)\n",
      "Requirement already satisfied: attrs>=17.3.0 in c:\\users\\ajukh\\appdata\\local\\programs\\python\\python312\\lib\\site-packages (from aiohttp->datasets) (24.2.0)\n",
      "Requirement already satisfied: frozenlist>=1.1.1 in c:\\users\\ajukh\\appdata\\local\\programs\\python\\python312\\lib\\site-packages (from aiohttp->datasets) (1.4.1)\n",
      "Requirement already satisfied: multidict<7.0,>=4.5 in c:\\users\\ajukh\\appdata\\local\\programs\\python\\python312\\lib\\site-packages (from aiohttp->datasets) (6.0.5)\n",
      "Requirement already satisfied: yarl<2.0,>=1.0 in c:\\users\\ajukh\\appdata\\local\\programs\\python\\python312\\lib\\site-packages (from aiohttp->datasets) (1.9.4)\n",
      "Requirement already satisfied: charset-normalizer<4,>=2 in c:\\users\\ajukh\\appdata\\local\\programs\\python\\python312\\lib\\site-packages (from requests>=2.32.2->datasets) (3.3.2)\n",
      "Requirement already satisfied: idna<4,>=2.5 in c:\\users\\ajukh\\appdata\\local\\programs\\python\\python312\\lib\\site-packages (from requests>=2.32.2->datasets) (3.7)\n",
      "Requirement already satisfied: urllib3<3,>=1.21.1 in c:\\users\\ajukh\\appdata\\local\\programs\\python\\python312\\lib\\site-packages (from requests>=2.32.2->datasets) (2.2.2)\n",
      "Requirement already satisfied: certifi>=2017.4.17 in c:\\users\\ajukh\\appdata\\local\\programs\\python\\python312\\lib\\site-packages (from requests>=2.32.2->datasets) (2024.6.2)\n",
      "Requirement already satisfied: colorama in c:\\users\\ajukh\\appdata\\local\\programs\\python\\python312\\lib\\site-packages (from tqdm->nltk) (0.4.6)\n",
      "Requirement already satisfied: python-dateutil>=2.8.2 in c:\\users\\ajukh\\appdata\\roaming\\python\\python312\\site-packages (from pandas->datasets) (2.9.0.post0)\n",
      "Requirement already satisfied: pytz>=2020.1 in c:\\users\\ajukh\\appdata\\local\\programs\\python\\python312\\lib\\site-packages (from pandas->datasets) (2024.1)\n",
      "Requirement already satisfied: tzdata>=2022.7 in c:\\users\\ajukh\\appdata\\local\\programs\\python\\python312\\lib\\site-packages (from pandas->datasets) (2024.1)\n",
      "Requirement already satisfied: six>=1.5 in c:\\users\\ajukh\\appdata\\local\\programs\\python\\python312\\lib\\site-packages (from python-dateutil>=2.8.2->pandas->datasets) (1.16.0)\n",
      "Note: you may need to restart the kernel to use updated packages.\n"
     ]
    }
   ],
   "source": [
    "%pip install nltk huggingface datasets huggingface_hub"
   ]
  },
  {
   "cell_type": "code",
   "execution_count": null,
   "metadata": {},
   "outputs": [],
   "source": [
    "# Importing the Natural Language Toolkit (nltk) library\n",
    "import nltk\n",
    "\n",
    "# Downloading the VADER lexicon, which is used for sentiment analysis\n",
    "nltk.download(\"vader_lexicon\")\n"
   ]
  },
  {
   "cell_type": "code",
   "execution_count": 3,
   "metadata": {},
   "outputs": [],
   "source": [
    "# Importing the SentimentIntensityAnalyzer class from the nltk.sentiment.vader module\n",
    "from nltk.sentiment.vader import SentimentIntensityAnalyzer\n",
    "\n",
    "# Initializing an instance of SentimentIntensityAnalyzer to perform sentiment analysis\n",
    "sa = SentimentIntensityAnalyzer()\n"
   ]
  },
  {
   "cell_type": "markdown",
   "metadata": {},
   "source": [
    "The **SentimentIntensityAnalyzer** uses a pre-built lexicon that contains a list of words associated with sentiment scores. It applies rules based on this lexicon to determine how positive, negative, or neutral a text is. \n"
   ]
  },
  {
   "cell_type": "code",
   "execution_count": 4,
   "metadata": {},
   "outputs": [
    {
     "data": {
      "text/plain": [
       "{'neg': 0.0, 'neu': 0.556, 'pos': 0.444, 'compound': 0.4927}"
      ]
     },
     "execution_count": 4,
     "metadata": {},
     "output_type": "execute_result"
    }
   ],
   "source": [
    "text = \"this is a very good product\"\n",
    "sa.polarity_scores(text)"
   ]
  },
  {
   "cell_type": "code",
   "execution_count": 5,
   "metadata": {},
   "outputs": [],
   "source": [
    "# Importing the 'load_dotenv' function from the 'dotenv' module to read environment variables from a .env file\n",
    "from dotenv import load_dotenv\n",
    "\n",
    "# Importing the 'os' module to interact with the operating system (for environment variables)\n",
    "import os\n",
    "\n",
    "# Loading environment variables from a .env file (which should be in the same directory or specified path)\n",
    "load_dotenv()\n",
    "\n",
    "# Retrieving the value of the 'HUGGINGFACE_TOKEN' environment variable\n",
    "Hugginface_token = os.getenv('HUGGINGFACE_TOKEN')\n"
   ]
  },
  {
   "cell_type": "code",
   "execution_count": null,
   "metadata": {},
   "outputs": [],
   "source": [
    "# Importing the 'login' function from the 'huggingface_hub' module to authenticate with the Hugging Face Hub\n",
    "from huggingface_hub import login\n",
    "\n",
    "# Logging into the Hugging Face Hub using the Hugging Face API token retrieved earlier\n",
    "login(token=Hugginface_token)\n"
   ]
  },
  {
   "cell_type": "code",
   "execution_count": 9,
   "metadata": {},
   "outputs": [
    {
     "data": {
      "text/plain": [
       "DatasetDict({\n",
       "    train: Dataset({\n",
       "        features: ['text', 'label'],\n",
       "        num_rows: 25000\n",
       "    })\n",
       "    test: Dataset({\n",
       "        features: ['text', 'label'],\n",
       "        num_rows: 25000\n",
       "    })\n",
       "    unsupervised: Dataset({\n",
       "        features: ['text', 'label'],\n",
       "        num_rows: 50000\n",
       "    })\n",
       "})"
      ]
     },
     "execution_count": 9,
     "metadata": {},
     "output_type": "execute_result"
    }
   ],
   "source": [
    "# Importing the 'load_dataset' function from the 'datasets' module to load a dataset\n",
    "from datasets import load_dataset\n",
    "\n",
    "# Loading the IMDB dataset using the 'load_dataset' function\n",
    "imdb_dataset = load_dataset(\"imdb\")\n",
    "\n",
    "# Displaying the loaded dataset\n",
    "imdb_dataset\n"
   ]
  },
  {
   "cell_type": "code",
   "execution_count": 10,
   "metadata": {},
   "outputs": [
    {
     "data": {
      "text/plain": [
       "array([ 7472, 13226,  6012, 13338, 19104, 17832,  4097, 15956, 21091,\n",
       "        5808])"
      ]
     },
     "execution_count": 10,
     "metadata": {},
     "output_type": "execute_result"
    }
   ],
   "source": [
    "import numpy as np  # Importing NumPy for numerical operations\n",
    "\n",
    "# Generating 10 random integers between 0 and the length of the 'train' dataset in cnn_dataset\n",
    "rand_int = np.random.randint(len(imdb_dataset['train']), size=10)\n",
    "\n",
    "# Output the generated random integers\n",
    "rand_int\n"
   ]
  },
  {
   "cell_type": "code",
   "execution_count": 14,
   "metadata": {},
   "outputs": [
    {
     "data": {
      "text/plain": [
       "['Before I give Spike Lee\\'s mess of a film SUMMER OF SAM a well-deserved thrashing, I would like to make one thing clear. I do not revile this film simply for its abundance of sleazy and unpleasant images. What makes this film so unwatchable is the fact that Lee seems to believe that SUMMER OF SAM should be taken seriously as a socially enlightening drama. The crime caper films of Quentin Tarantino, for example, are filled with violence, profanity, and other sleaze, but are nonetheless highly watchable because Tarantino does not attempt to pass these films off as socially redeeming works of art. He knows that such films are for entertainment value only. On the other hand, serious dramas such as SAVING PRIVATE RYAN and SCHINDLER\\'S LIST are often unpleasant to watch, but the unpleasantness serves to develop the film\\'s plot and characters, with the end goal of getting the audience emotionally involved with the story and characters onscreen. SUMMER OF SAM, unfortunately, merely wallows in its own sensationalism and sleaze, while believing that it is serving as social commentary, much like other trash epics .<br /><br />SUMMER OF SAM does not serve as a serious drama because its characters are merely cardboard-cutout stereotypes. Its plot purports to show the emotional impact of the hysteria over the Son of Sam murders on the residents of the predominately Italian-American north Bronx neighborhood where the murders ocurred. However, instead of of presenting the locals as a diverse mix of personalities, Lee simply wheels out every negative Italian stereotype imaginable. The men are ignorant, lazy, oversexed goombahs. The women are split between weak, complacent \"good girls\" (Mira Sorvino\\'s Dionna) and promiscuous \"bad girls\" (Jennifer Esposito\\'s Ruby). Lee seems to vindictively wants to \"payback\" Hollywood for their years of negative African-American stereotyping by wheeling out stereotypes of his own, and few critics seem to care. If Martin Scorsese, for example, presented residents of an African-American neighborhood as a bunch of Amos \\'n Andy and Aunt Jemima stereotypes, critics would rightfully condemn such blatant stereotyping. More importantly, one-dimensional, stereotypical characters undermine any film that attempts to be a serious social commentary.<br /><br />Without exception, the cast of SUMMER OF SAM is excellent. However, the acting, for the most part, is uninspired. The cast is either just going through the motions, or they have little to work with scriptwise. Additionally, there is notable miscasting. Comedian John Leguizamo is very talented, but his Vinny character seems to be a stale, comedic impersonation of John Travolta\\'s Tony Manero from SATURDAY NIGHT FEVER. And Michael Badalucco, a perennial \"nice guy\" actor, is badly miscast as serial killer David Berkowitz, coming across as funny rather than frightening. The only performance worth paying attention to is Adrien Brody as the troubled, but sincere, neighborhood misfit Ritchie. The Brody performance and the typically stylish Lee cinematography are this film\\'s only virtues.<br /><br />*1/2 out of ****',\n",
       " 'Richard Chamberlain is David Burton, a tax lawyer living in Sydney, Australia who is drawn into a murder trial defending five Aboriginal men accused of murdering a fellow native in Peter Weir\\'s apocalyptic 1977 thriller The Last Wave. Taking up where Picnic at Hanging Rock left off, the film goes deeper into exploring the unknown and, in the process, shows the gulf between two cultures who live side by side but lack understanding of each others culture and traditions. Weir shows how white society considers the native beliefs to be primitive superstitions and believes that since they are living in the cities and have been \"domesticated\", their tribal laws and culture no longer apply. <br /><br />From the start, Burton is drawn deeper and deeper into a strange web of visions and symbols where the line between real time and \"dream time\" evaporates. Water plays an important symbolic role in the film from the opening sequence in which a sudden thunder and hailstorm interrupts a peaceful school recess to Burton\\'s discovery that his bathtub is overflowing and water is pouring down his steps. As violent and unusual weather continue with episodes of black rain and mud falling from the sky, the contrast between the facile scientific explanations of the phenomenon and the intuitive understanding of the natives is made clear. Burton and his wife Annie (Olivia Hamnet) study books about the Aborigines and learn about the role of dreams in the tribal traditions. When he invites one of his clients Chris Lee (David Gulpilil) to his home for dinner, he is disturbed to find that he is the subject of an inquiry by Chris and his friend Charlie (Nadjiwarra Amagula), an enigmatic Aborigine sorcerer involved with the defendants. As Burton\\'s investigation continues, his clients make his work difficult by refusing to disclose the true events surrounding the murder.<br /><br />After Chris starts to appear in his dreams, Burton is convinced that the Aborigine was killed in a tribal ritual because \"he saw too much\", though Chris refuses to acknowledge this in court. Burton, becoming more and more troubled by a mystery he cannot unravel, says to his stepfather priest, \"Why didn\\'t you tell me there were mysteries?\" This is a legitimate question but, according to the reverend, the Church answers all mysteries. Burton knows now that he must discover the truth for himself and enters the tribal underground caves. Though we do not know for certain what is real and what is a dream, he comes face to face with his deepest fears in a haunting climax that will leave you pondering its meaning into the wee hours of the morning.<br /><br />In this period of history in which native Hopi and Mayan prophecies predict the \"end of history\" and the purification of man leading to the Fifth World, The Last Wave, though 25 years old, is still timely. The Aborigines are portrayed as a vibrant culture, not one completely subjugated by the white man, yet I am troubled by the gnawing feeling that we are looking in but not quite seeing. Weir has opened our eyes to the mystery that lies beyond our consensual view of reality, but he perpetuates the doom-orientation that sees possibility only in terms of fear, showing nature as a dark and uncontrollable power without a hint of the spiritual beauty that lives on both sides of time.',\n",
       " 'This norwegian movie is so crap, the actors can not act cause they seems to be reading from a book and the story is so (wannabe) hollywood..the only actor who did a ok job was Haavard Lilleheie..3/10 If you want a really good norwegian movie watch Buddy, great actors and a feelgood story 9/10',\n",
       " 'A long time ago, in a galaxy far, far away.....There was a boy who was only two years old when the original \"Star Wars\" film was released. He doesn\\'t remember first seeing the movie, but he also doesn\\'t remember life before it. He does remember the first \"Star Wars\" themed gift he got...a shoebox full of action figures from the original set. He was too young to fully appreciate how special that gift would be. But years later, he would get what to this day goes down as one of the best gifts he\\'s ever received: another box full of action figures, ten of the final twelve he needed to complete his collection. It\\'s now legendary in this boy\\'s family how the last action figure he needed, Anakin Skywalker, stopped being produced and carried in stores, and how this boy went for about ten years (until he got into college) trying to track one down and finally bought it from someone on his dorm floor for a bag of beer nuggets (don\\'t ask...it\\'s a Northern Illinois University thing).<br /><br />I can\\'t review \"Star Wars\" as a movie. It represents absolutely everything good, fun and magical about my childhood. There\\'s no separating it in my mind from Christmases, birthdays, summers and winters growing up. In the winter, my friends and I would build snow forts and pretend we were on Hoth (I was always Han Solo). My friends\\' dad built them a kick-ass tree house, and that served as the Ewok village. They also had a huge pine tree whose bottom branches were high enough to create a sort of cave underneath it, and this made a great spot to pretend we were in Yoda\\'s home. I am unabashedly dorky when it comes to \"Star Wars\" and I think people either just understand that or they don\\'t. I don\\'t get the appeal of \"Lord of the Rings\" or \"Star Trek\" but I understand the rabid flocks of fans that follow them because I am a rabid fan of George Lucas\\'s films.<br /><br />I feel no need to defend my opinion of these movies as some of the greatest of all time. Every time I put them in the DVD player, I feel like I\\'m eight years old again, when life was simple and the biggest problem I had was figuring out how I was going to track down a figure of Anakin Skywalker.<br /><br />Grade (for the entire trilogy): A+',\n",
       " 'Methinks the best screen version of Quo Vadis? ever made. Well, yeah, the plot is not so strong and evident as in the book, sometimes meandering and loosing its suspense among aesthetic subtleties. But the film is really and beautifully \"strange\", has an enigma and style, that other versions - with R.Taylor and the new one from Poland - definitely lack. It has the air of Roman decadence, the beauty of declining paganism and infant Christianity. At least I believe it has). Brandauer, Forrest and Syudov did excellent job in portraying their characters. Forrest\\'s Petronius seems to be the biggest success of the cast (let alone Brandauer who is the one of the greatest actors ever) and accumulates the very essence of this dying world (IMHO). That\\'s it. That is the way it happened, guys... ))) IMHO',\n",
       " 'It has only been a week since I saw my first John Waters film (Female Trouble), and I wasn\\'t sure what to expect the second time around.<br /><br />While the previous film was outrageously over the top, Pecker is actually a funny film that satirizes the art critics in New York to a T. Anyone who cannot imagine what these \"Experts\" find so appealing about modern art, will enjoy seeing these pretentious snobs get so full of themselves over Pecker, a boy who just found a broken camera and starts shooting his friends and neighbors.<br /><br />Edward Furlong (Pet Sematary II, Terminator 2: Judgment Day) was surprisingly good as Pecker. There wasn\\'t a lot of meat on any of the roles in this film, but he really shines.<br /><br />Christina Ricci (Prozac Nation) comes in with another great performance as Pecker\\'s girlfriend. In fact, it was a banner year for Ricci (Buffalo \\'66, The Opposite of Sex, and Pecker.<br /><br />Lili Taylor, who had the only good role in The Haunting, was also a significant part of the film and really made it enjoyable.<br /><br />There are many funny scenes, but I have to say the best was when a crown gathers screaming, \"We want bush!\" \"We want bush!\" \"We want bush!\" I thought it was a Republican convention until I saw the police hauling off the dancer.<br /><br />I am going to have to look for more of Waters\\' work, especially Hairspray, now that that is in the news.',\n",
       " 'For those of us that lived thru those weeks of filming in town and around the Valley - lest we not forget the tedious days of road closures and \"film-making\". As a reminder to those that live here - locales include Boulder Creek, Bonny Doon, Davenport, Big Basin. etc. The bank was the BC firehouse; chase scenes included Moon Drive off Hwy 236, Empire Grade Rd, and Hwy 1.<br /><br />Production: Jeffrey Jones was the most approachable, Matt Broderick was above us all - even back then. As far as the film goes - a joke of a script and even a bigger laugh regarding acting and plot - but who cares at this level. A nice time capsule for those that enjoy our coast and valley scenery.<br /><br />Additional notes; Joe\\'s Bar (Jed\\'s Tavern in the film), original name of the film was Welcome to Buzzsaw - the Old Erba\\'s parking lot was the town square, the backyard shots were off of Grove Street in Boulder Creek; turn off the thinking cap and see a few actors in their early days.',\n",
       " 'This was a great movie but it had the worst ending I think I have ever seen!!! The actors were great and displayed wonderful talent. The entire story was twisted and unexpecting, which, is what made it entertaining. As good as the movie was, the entire film is judged by the ending, which was terrible! Maybe a sequel could eliminate this bad ending.',\n",
       " 'A very high-standard Columbo story which was actually the first filmed episode of the long-running series but was originally transmitted second (after \"Murder By The Book\").<br /><br />Robert Culp makes his first of three appearances as the guest murderer in the series and plays the owner of a private detective agency, who blackmails the wife (Patricia Crowley) of a rich, highly influential businessman (played very sympathetically by Ray Milland) after he falsifies a report, in her favour, after it is discovered she was having an affair. The wife later rebels against the blackmail scheme but is killed in a fit of rage....<br /><br />A very satisfying episode in many respects, particularly as the plot is so strongly set-up and subsequently developed and also because of the rare Columbo ingredient that the crime is an unpremeditated killing. The whole thing is further enhanced when the widowed husband uses the murderer to assist Columbo in his investigations: a feature that facilitates numerous good quality scenes, particularly in the first sequence when the three central characters meet and Columbo\\'s crucially deceptive qualities are wonderfully in evidence.<br /><br />Directed with flair by Bernard L. Kowalski and acted to an appropriately high level, this really set the tone for whole series (since \"Murder By the Book\" was let down by a poor ending). The script by Columbo creators Richard Levinson and William Link is precise, well-structured and well-thought-out and is underpinned by a steady, productive pace and meaningful sequences which really exhibit the unpredictability of the story. Ultimately, the finale fittingly epitomises that Columbo has always been one step ahead of the murderer.<br /><br />Overall, this is a very fine piece of detective work for Columbo, and strongly suggests that the production team had worked positively and constructively to render a polished Columbo story.',\n",
       " \"Winter Kills is a terrible, incoherent and very disappointing conspiracy comedy-thriller from little-known director William Richert. While watching the film, I honestly felt as if I was the emperor in the classic fable The Emperor's New Clothes. The film made me feel like a fool because I couldn't make head nor tail of the serpentine plot and the nonsensical characters. But I felt kind of embarrassed to admit to myself that the film was tying my brain up in knots. So I stuck with it to the end, hoping that the whole tangled mess would untangle itself. Then I realised.... the film is SUPPOSED to be serpentine, nonsensical and illogical, because that's the whole point. This is a satirical look at conspiracy theories and theorists, with the knotting-up of the plot used as a metaphor for the knotting-up of truths, half-truths and lies that define any conspiracy. Even when I got that the joke was on me, I still felt Winter Kills to be a pretty awful movie.<br /><br />Young Nick Kegan (Jeff Bridges) is the younger brother of a former United States President who was assassinated in Philadelphia. Nick is present when a dying man claims that he shot the President and gives detailed information about where he hid the gun. Nick follows the clues, but every step of the way the people helping him seem to die in mysterious circumstances. Also, his father Pa Kegan (John Huston), a vulgar and disgustingly wealthy businessman, keeps interfering with Nick's investigation. The deeper he delves into the assassination, the more Nick realises that he is descending into a web of complex lies and red herrings, where nothing is as it seems and no-one can be trusted.<br /><br />The film is an utter nightmare to follow, and in many ways is not worth trying to follow for the afore-mentioned reason that it deliberately tangles itself up. The cast is packed with extraordinary talent but most of them are wasted. Toshiro Mifune has one of the briefest and most pointless cameo roles in cinematic history; Elizabeth Taylor appears uncredited and has not a single line of dialogue; Richard Boone is given what seems to be an interesting role but his character goes nowhere. John Huston has the best role as the powerful patriarch and provides us with the film's few enjoyable moments with his acerbic delivery. Anthony Perkins also gets a creepy role and handles it well, though his screen time is far too short to do complete justice to the character. Some nudity and sex scenes are tossed in for no real reason and, while they're quite graphic and might appeal to voyeurs, they really belong in another film. The film's semi-comic climax is farcical and disappointing, yet paradoxically memorable in its weird little way. There's obviously a cult audience out there somewhere for Winter Kills.... but I won't be counting myself among its number.\"]"
      ]
     },
     "execution_count": 14,
     "metadata": {},
     "output_type": "execute_result"
    }
   ],
   "source": [
    "# Extracting a subset of data from the 'imdb_dataset' for 'train' based on the random indices in 'rand_int'\n",
    "summary_data = imdb_dataset['train'][rand_int]['text']\n",
    "\n",
    "# Display the extracted 'summary_data', which contains the 'text' field for the randomly selected entries\n",
    "summary_data\n"
   ]
  },
  {
   "cell_type": "code",
   "execution_count": 15,
   "metadata": {},
   "outputs": [
    {
     "data": {
      "text/html": [
       "<div>\n",
       "<style scoped>\n",
       "    .dataframe tbody tr th:only-of-type {\n",
       "        vertical-align: middle;\n",
       "    }\n",
       "\n",
       "    .dataframe tbody tr th {\n",
       "        vertical-align: top;\n",
       "    }\n",
       "\n",
       "    .dataframe thead th {\n",
       "        text-align: right;\n",
       "    }\n",
       "</style>\n",
       "<table border=\"1\" class=\"dataframe\">\n",
       "  <thead>\n",
       "    <tr style=\"text-align: right;\">\n",
       "      <th></th>\n",
       "      <th>comment</th>\n",
       "    </tr>\n",
       "  </thead>\n",
       "  <tbody>\n",
       "    <tr>\n",
       "      <th>0</th>\n",
       "      <td>Before I give Spike Lee's mess of a film SUMME...</td>\n",
       "    </tr>\n",
       "    <tr>\n",
       "      <th>1</th>\n",
       "      <td>Richard Chamberlain is David Burton, a tax law...</td>\n",
       "    </tr>\n",
       "    <tr>\n",
       "      <th>2</th>\n",
       "      <td>This norwegian movie is so crap, the actors ca...</td>\n",
       "    </tr>\n",
       "    <tr>\n",
       "      <th>3</th>\n",
       "      <td>A long time ago, in a galaxy far, far away.......</td>\n",
       "    </tr>\n",
       "    <tr>\n",
       "      <th>4</th>\n",
       "      <td>Methinks the best screen version of Quo Vadis?...</td>\n",
       "    </tr>\n",
       "  </tbody>\n",
       "</table>\n",
       "</div>"
      ],
      "text/plain": [
       "                                             comment\n",
       "0  Before I give Spike Lee's mess of a film SUMME...\n",
       "1  Richard Chamberlain is David Burton, a tax law...\n",
       "2  This norwegian movie is so crap, the actors ca...\n",
       "3  A long time ago, in a galaxy far, far away.......\n",
       "4  Methinks the best screen version of Quo Vadis?..."
      ]
     },
     "execution_count": 15,
     "metadata": {},
     "output_type": "execute_result"
    }
   ],
   "source": [
    "import pandas as pd  # Importing the pandas library for data manipulation and analysis\n",
    "\n",
    "# Creating a DataFrame from a dictionary, where the key 'comment' is mapped to the variable 'summary_data'\n",
    "df = pd.DataFrame({\"comment\": summary_data})\n",
    "\n",
    "# Displaying the first 5 rows of the DataFrame to inspect the data\n",
    "df.head()\n"
   ]
  },
  {
   "cell_type": "code",
   "execution_count": 17,
   "metadata": {},
   "outputs": [
    {
     "data": {
      "text/html": [
       "<div>\n",
       "<style scoped>\n",
       "    .dataframe tbody tr th:only-of-type {\n",
       "        vertical-align: middle;\n",
       "    }\n",
       "\n",
       "    .dataframe tbody tr th {\n",
       "        vertical-align: top;\n",
       "    }\n",
       "\n",
       "    .dataframe thead th {\n",
       "        text-align: right;\n",
       "    }\n",
       "</style>\n",
       "<table border=\"1\" class=\"dataframe\">\n",
       "  <thead>\n",
       "    <tr style=\"text-align: right;\">\n",
       "      <th></th>\n",
       "      <th>comment</th>\n",
       "      <th>score</th>\n",
       "    </tr>\n",
       "  </thead>\n",
       "  <tbody>\n",
       "    <tr>\n",
       "      <th>0</th>\n",
       "      <td>Before I give Spike Lee's mess of a film SUMME...</td>\n",
       "      <td>{'neg': 0.166, 'neu': 0.724, 'pos': 0.109, 'co...</td>\n",
       "    </tr>\n",
       "    <tr>\n",
       "      <th>1</th>\n",
       "      <td>Richard Chamberlain is David Burton, a tax law...</td>\n",
       "      <td>{'neg': 0.118, 'neu': 0.797, 'pos': 0.085, 'co...</td>\n",
       "    </tr>\n",
       "    <tr>\n",
       "      <th>2</th>\n",
       "      <td>This norwegian movie is so crap, the actors ca...</td>\n",
       "      <td>{'neg': 0.057, 'neu': 0.761, 'pos': 0.182, 'co...</td>\n",
       "    </tr>\n",
       "    <tr>\n",
       "      <th>3</th>\n",
       "      <td>A long time ago, in a galaxy far, far away.......</td>\n",
       "      <td>{'neg': 0.074, 'neu': 0.776, 'pos': 0.149, 'co...</td>\n",
       "    </tr>\n",
       "    <tr>\n",
       "      <th>4</th>\n",
       "      <td>Methinks the best screen version of Quo Vadis?...</td>\n",
       "      <td>{'neg': 0.046, 'neu': 0.737, 'pos': 0.217, 'co...</td>\n",
       "    </tr>\n",
       "  </tbody>\n",
       "</table>\n",
       "</div>"
      ],
      "text/plain": [
       "                                             comment  \\\n",
       "0  Before I give Spike Lee's mess of a film SUMME...   \n",
       "1  Richard Chamberlain is David Burton, a tax law...   \n",
       "2  This norwegian movie is so crap, the actors ca...   \n",
       "3  A long time ago, in a galaxy far, far away.......   \n",
       "4  Methinks the best screen version of Quo Vadis?...   \n",
       "\n",
       "                                               score  \n",
       "0  {'neg': 0.166, 'neu': 0.724, 'pos': 0.109, 'co...  \n",
       "1  {'neg': 0.118, 'neu': 0.797, 'pos': 0.085, 'co...  \n",
       "2  {'neg': 0.057, 'neu': 0.761, 'pos': 0.182, 'co...  \n",
       "3  {'neg': 0.074, 'neu': 0.776, 'pos': 0.149, 'co...  \n",
       "4  {'neg': 0.046, 'neu': 0.737, 'pos': 0.217, 'co...  "
      ]
     },
     "execution_count": 17,
     "metadata": {},
     "output_type": "execute_result"
    }
   ],
   "source": [
    "# Looping through each comment in 'summary_data' to compute sentiment scores\n",
    "for comment in summary_data:\n",
    "    # Using the sentiment analyzer to get the polarity scores for each comment\n",
    "    score = sa.polarity_scores(comment)  # 'sa' is assumed to be a sentiment analysis object (e.g., from VADER)\n",
    "\n",
    "# Applying the sentiment analysis function to each row in the DataFrame 'df' \n",
    "# and creating a new column 'score' to store the sentiment scores for each 'comment'\n",
    "df['score'] = df['comment'].apply(lambda comment: sa.polarity_scores(str(comment)))\n",
    "df.head()"
   ]
  },
  {
   "cell_type": "code",
   "execution_count": 18,
   "metadata": {},
   "outputs": [
    {
     "data": {
      "text/html": [
       "<div>\n",
       "<style scoped>\n",
       "    .dataframe tbody tr th:only-of-type {\n",
       "        vertical-align: middle;\n",
       "    }\n",
       "\n",
       "    .dataframe tbody tr th {\n",
       "        vertical-align: top;\n",
       "    }\n",
       "\n",
       "    .dataframe thead th {\n",
       "        text-align: right;\n",
       "    }\n",
       "</style>\n",
       "<table border=\"1\" class=\"dataframe\">\n",
       "  <thead>\n",
       "    <tr style=\"text-align: right;\">\n",
       "      <th></th>\n",
       "      <th>comment</th>\n",
       "      <th>score</th>\n",
       "      <th>negScore</th>\n",
       "    </tr>\n",
       "  </thead>\n",
       "  <tbody>\n",
       "    <tr>\n",
       "      <th>0</th>\n",
       "      <td>Before I give Spike Lee's mess of a film SUMME...</td>\n",
       "      <td>{'neg': 0.166, 'neu': 0.724, 'pos': 0.109, 'co...</td>\n",
       "      <td>0.166</td>\n",
       "    </tr>\n",
       "    <tr>\n",
       "      <th>1</th>\n",
       "      <td>Richard Chamberlain is David Burton, a tax law...</td>\n",
       "      <td>{'neg': 0.118, 'neu': 0.797, 'pos': 0.085, 'co...</td>\n",
       "      <td>0.118</td>\n",
       "    </tr>\n",
       "    <tr>\n",
       "      <th>2</th>\n",
       "      <td>This norwegian movie is so crap, the actors ca...</td>\n",
       "      <td>{'neg': 0.057, 'neu': 0.761, 'pos': 0.182, 'co...</td>\n",
       "      <td>0.057</td>\n",
       "    </tr>\n",
       "    <tr>\n",
       "      <th>3</th>\n",
       "      <td>A long time ago, in a galaxy far, far away.......</td>\n",
       "      <td>{'neg': 0.074, 'neu': 0.776, 'pos': 0.149, 'co...</td>\n",
       "      <td>0.074</td>\n",
       "    </tr>\n",
       "    <tr>\n",
       "      <th>4</th>\n",
       "      <td>Methinks the best screen version of Quo Vadis?...</td>\n",
       "      <td>{'neg': 0.046, 'neu': 0.737, 'pos': 0.217, 'co...</td>\n",
       "      <td>0.046</td>\n",
       "    </tr>\n",
       "  </tbody>\n",
       "</table>\n",
       "</div>"
      ],
      "text/plain": [
       "                                             comment  \\\n",
       "0  Before I give Spike Lee's mess of a film SUMME...   \n",
       "1  Richard Chamberlain is David Burton, a tax law...   \n",
       "2  This norwegian movie is so crap, the actors ca...   \n",
       "3  A long time ago, in a galaxy far, far away.......   \n",
       "4  Methinks the best screen version of Quo Vadis?...   \n",
       "\n",
       "                                               score  negScore  \n",
       "0  {'neg': 0.166, 'neu': 0.724, 'pos': 0.109, 'co...     0.166  \n",
       "1  {'neg': 0.118, 'neu': 0.797, 'pos': 0.085, 'co...     0.118  \n",
       "2  {'neg': 0.057, 'neu': 0.761, 'pos': 0.182, 'co...     0.057  \n",
       "3  {'neg': 0.074, 'neu': 0.776, 'pos': 0.149, 'co...     0.074  \n",
       "4  {'neg': 0.046, 'neu': 0.737, 'pos': 0.217, 'co...     0.046  "
      ]
     },
     "execution_count": 18,
     "metadata": {},
     "output_type": "execute_result"
    }
   ],
   "source": [
    "# Extracting the 'neg' (negative sentiment score) from the 'score' dictionary for each row\n",
    "df['negScore'] = df['score'].apply(lambda score_dict: score_dict['neg'])\n",
    "\n",
    "# Display the first 5 rows of the DataFrame to inspect the 'negScore' column\n",
    "df.head()\n"
   ]
  },
  {
   "cell_type": "code",
   "execution_count": 19,
   "metadata": {},
   "outputs": [
    {
     "data": {
      "text/html": [
       "<div>\n",
       "<style scoped>\n",
       "    .dataframe tbody tr th:only-of-type {\n",
       "        vertical-align: middle;\n",
       "    }\n",
       "\n",
       "    .dataframe tbody tr th {\n",
       "        vertical-align: top;\n",
       "    }\n",
       "\n",
       "    .dataframe thead th {\n",
       "        text-align: right;\n",
       "    }\n",
       "</style>\n",
       "<table border=\"1\" class=\"dataframe\">\n",
       "  <thead>\n",
       "    <tr style=\"text-align: right;\">\n",
       "      <th></th>\n",
       "      <th>comment</th>\n",
       "      <th>score</th>\n",
       "      <th>negScore</th>\n",
       "      <th>compound</th>\n",
       "    </tr>\n",
       "  </thead>\n",
       "  <tbody>\n",
       "    <tr>\n",
       "      <th>0</th>\n",
       "      <td>Before I give Spike Lee's mess of a film SUMME...</td>\n",
       "      <td>{'neg': 0.166, 'neu': 0.724, 'pos': 0.109, 'co...</td>\n",
       "      <td>0.166</td>\n",
       "      <td>-0.9851</td>\n",
       "    </tr>\n",
       "    <tr>\n",
       "      <th>1</th>\n",
       "      <td>Richard Chamberlain is David Burton, a tax law...</td>\n",
       "      <td>{'neg': 0.118, 'neu': 0.797, 'pos': 0.085, 'co...</td>\n",
       "      <td>0.118</td>\n",
       "      <td>-0.9686</td>\n",
       "    </tr>\n",
       "    <tr>\n",
       "      <th>2</th>\n",
       "      <td>This norwegian movie is so crap, the actors ca...</td>\n",
       "      <td>{'neg': 0.057, 'neu': 0.761, 'pos': 0.182, 'co...</td>\n",
       "      <td>0.057</td>\n",
       "      <td>0.7526</td>\n",
       "    </tr>\n",
       "    <tr>\n",
       "      <th>3</th>\n",
       "      <td>A long time ago, in a galaxy far, far away.......</td>\n",
       "      <td>{'neg': 0.074, 'neu': 0.776, 'pos': 0.149, 'co...</td>\n",
       "      <td>0.074</td>\n",
       "      <td>0.9902</td>\n",
       "    </tr>\n",
       "    <tr>\n",
       "      <th>4</th>\n",
       "      <td>Methinks the best screen version of Quo Vadis?...</td>\n",
       "      <td>{'neg': 0.046, 'neu': 0.737, 'pos': 0.217, 'co...</td>\n",
       "      <td>0.046</td>\n",
       "      <td>0.9851</td>\n",
       "    </tr>\n",
       "  </tbody>\n",
       "</table>\n",
       "</div>"
      ],
      "text/plain": [
       "                                             comment  \\\n",
       "0  Before I give Spike Lee's mess of a film SUMME...   \n",
       "1  Richard Chamberlain is David Burton, a tax law...   \n",
       "2  This norwegian movie is so crap, the actors ca...   \n",
       "3  A long time ago, in a galaxy far, far away.......   \n",
       "4  Methinks the best screen version of Quo Vadis?...   \n",
       "\n",
       "                                               score  negScore  compound  \n",
       "0  {'neg': 0.166, 'neu': 0.724, 'pos': 0.109, 'co...     0.166   -0.9851  \n",
       "1  {'neg': 0.118, 'neu': 0.797, 'pos': 0.085, 'co...     0.118   -0.9686  \n",
       "2  {'neg': 0.057, 'neu': 0.761, 'pos': 0.182, 'co...     0.057    0.7526  \n",
       "3  {'neg': 0.074, 'neu': 0.776, 'pos': 0.149, 'co...     0.074    0.9902  \n",
       "4  {'neg': 0.046, 'neu': 0.737, 'pos': 0.217, 'co...     0.046    0.9851  "
      ]
     },
     "execution_count": 19,
     "metadata": {},
     "output_type": "execute_result"
    }
   ],
   "source": [
    "# Extracting the 'compound' (overall sentiment score) from the 'score' dictionary for each row\n",
    "df['compound'] = df['score'].apply(lambda score_dict: score_dict['compound'])\n",
    "\n",
    "# Display the first 5 rows of the DataFrame to inspect the 'compound' column\n",
    "df.head()\n"
   ]
  },
  {
   "cell_type": "code",
   "execution_count": 20,
   "metadata": {},
   "outputs": [
    {
     "data": {
      "text/html": [
       "<div>\n",
       "<style scoped>\n",
       "    .dataframe tbody tr th:only-of-type {\n",
       "        vertical-align: middle;\n",
       "    }\n",
       "\n",
       "    .dataframe tbody tr th {\n",
       "        vertical-align: top;\n",
       "    }\n",
       "\n",
       "    .dataframe thead th {\n",
       "        text-align: right;\n",
       "    }\n",
       "</style>\n",
       "<table border=\"1\" class=\"dataframe\">\n",
       "  <thead>\n",
       "    <tr style=\"text-align: right;\">\n",
       "      <th></th>\n",
       "      <th>comment</th>\n",
       "      <th>score</th>\n",
       "      <th>negScore</th>\n",
       "      <th>compound</th>\n",
       "      <th>type</th>\n",
       "    </tr>\n",
       "  </thead>\n",
       "  <tbody>\n",
       "    <tr>\n",
       "      <th>0</th>\n",
       "      <td>Before I give Spike Lee's mess of a film SUMME...</td>\n",
       "      <td>{'neg': 0.166, 'neu': 0.724, 'pos': 0.109, 'co...</td>\n",
       "      <td>0.166</td>\n",
       "      <td>-0.9851</td>\n",
       "      <td>negative</td>\n",
       "    </tr>\n",
       "    <tr>\n",
       "      <th>1</th>\n",
       "      <td>Richard Chamberlain is David Burton, a tax law...</td>\n",
       "      <td>{'neg': 0.118, 'neu': 0.797, 'pos': 0.085, 'co...</td>\n",
       "      <td>0.118</td>\n",
       "      <td>-0.9686</td>\n",
       "      <td>negative</td>\n",
       "    </tr>\n",
       "    <tr>\n",
       "      <th>2</th>\n",
       "      <td>This norwegian movie is so crap, the actors ca...</td>\n",
       "      <td>{'neg': 0.057, 'neu': 0.761, 'pos': 0.182, 'co...</td>\n",
       "      <td>0.057</td>\n",
       "      <td>0.7526</td>\n",
       "      <td>positive</td>\n",
       "    </tr>\n",
       "    <tr>\n",
       "      <th>3</th>\n",
       "      <td>A long time ago, in a galaxy far, far away.......</td>\n",
       "      <td>{'neg': 0.074, 'neu': 0.776, 'pos': 0.149, 'co...</td>\n",
       "      <td>0.074</td>\n",
       "      <td>0.9902</td>\n",
       "      <td>positive</td>\n",
       "    </tr>\n",
       "    <tr>\n",
       "      <th>4</th>\n",
       "      <td>Methinks the best screen version of Quo Vadis?...</td>\n",
       "      <td>{'neg': 0.046, 'neu': 0.737, 'pos': 0.217, 'co...</td>\n",
       "      <td>0.046</td>\n",
       "      <td>0.9851</td>\n",
       "      <td>positive</td>\n",
       "    </tr>\n",
       "  </tbody>\n",
       "</table>\n",
       "</div>"
      ],
      "text/plain": [
       "                                             comment  \\\n",
       "0  Before I give Spike Lee's mess of a film SUMME...   \n",
       "1  Richard Chamberlain is David Burton, a tax law...   \n",
       "2  This norwegian movie is so crap, the actors ca...   \n",
       "3  A long time ago, in a galaxy far, far away.......   \n",
       "4  Methinks the best screen version of Quo Vadis?...   \n",
       "\n",
       "                                               score  negScore  compound  \\\n",
       "0  {'neg': 0.166, 'neu': 0.724, 'pos': 0.109, 'co...     0.166   -0.9851   \n",
       "1  {'neg': 0.118, 'neu': 0.797, 'pos': 0.085, 'co...     0.118   -0.9686   \n",
       "2  {'neg': 0.057, 'neu': 0.761, 'pos': 0.182, 'co...     0.057    0.7526   \n",
       "3  {'neg': 0.074, 'neu': 0.776, 'pos': 0.149, 'co...     0.074    0.9902   \n",
       "4  {'neg': 0.046, 'neu': 0.737, 'pos': 0.217, 'co...     0.046    0.9851   \n",
       "\n",
       "       type  \n",
       "0  negative  \n",
       "1  negative  \n",
       "2  positive  \n",
       "3  positive  \n",
       "4  positive  "
      ]
     },
     "execution_count": 20,
     "metadata": {},
     "output_type": "execute_result"
    }
   ],
   "source": [
    "# Assigning the label 'positive' to rows where the 'compound' score is greater than 0\n",
    "df.loc[df.compound > 0, 'type'] = \"positive\"\n",
    "\n",
    "# Assigning the label 'Neutral' to rows where the 'compound' score is exactly 0\n",
    "df.loc[df.compound == 0, 'type'] = \"Neutral\"\n",
    "\n",
    "# Assigning the label 'negative' to rows where the 'compound' score is less than 0\n",
    "df.loc[df.compound < 0, 'type'] = \"negative\"\n",
    "\n",
    "# Display the first 5 rows of the DataFrame to inspect the 'type' column\n",
    "df.head()\n"
   ]
  },
  {
   "cell_type": "code",
   "execution_count": null,
   "metadata": {},
   "outputs": [],
   "source": []
  }
 ],
 "metadata": {
  "kernelspec": {
   "display_name": "Python 3",
   "language": "python",
   "name": "python3"
  },
  "language_info": {
   "codemirror_mode": {
    "name": "ipython",
    "version": 3
   },
   "file_extension": ".py",
   "mimetype": "text/x-python",
   "name": "python",
   "nbconvert_exporter": "python",
   "pygments_lexer": "ipython3",
   "version": "3.12.3"
  }
 },
 "nbformat": 4,
 "nbformat_minor": 2
}
