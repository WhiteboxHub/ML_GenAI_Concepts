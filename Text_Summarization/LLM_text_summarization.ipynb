{
  "cells": [
    {
      "cell_type": "code",
      "execution_count": null,
      "metadata": {
        "colab": {
          "base_uri": "https://localhost:8080/"
        },
        "id": "549NHuoqY1Kk",
        "outputId": "cba67f44-722d-419e-9dc8-a3f1dfbadd2a"
      },
      "outputs": [],
      "source": [
        "%pip install torch numpy transformers datasets huggingface"
      ]
    },
    {
      "cell_type": "markdown",
      "metadata": {},
      "source": [
        "### Importing the Required libraries\n",
        "\n",
        "Hugginface key is required \n",
        "\n",
        "[Huggingface](https://huggingface.co/)\n",
        "\n",
        "use the link to signup and create a api key free of cost\n"
      ]
    },
    {
      "cell_type": "code",
      "execution_count": null,
      "metadata": {
        "colab": {
          "base_uri": "https://localhost:8080/"
        },
        "id": "ZNH0ul7zbdi3",
        "outputId": "7e7cebf1-b11e-48f7-e67c-abaa0b9720c0"
      },
      "outputs": [
        {
          "name": "stdout",
          "output_type": "stream",
          "text": [
            "The token has not been saved to the git credentials helper. Pass `add_to_git_credential=True` in this function directly or `--add-to-git-credential` if using via `huggingface-cli` if you want to set the git credential as well.\n",
            "Token is valid (permission: fineGrained).\n",
            "Your token has been saved to /root/.cache/huggingface/token\n",
            "Login successful\n"
          ]
        }
      ],
      "source": [
        "from huggingface_hub import login\n",
        "import torch\n",
        "from transformers import BartForConditionalGeneration, BartTokenizer,BertTokenizer,BertModel\n",
        "from datasets import load_dataset\n",
        "huggingfacekey = \"hugging-face api key\"\n",
        "login(token=huggingfacekey)"
      ]
    },
    {
      "cell_type": "markdown",
      "metadata": {},
      "source": [
        "## Random Index Generation and Dataset Loading Example\n",
        "\n",
        "### Random Index Generation:\n",
        "    - Uses np.random.randint() to generate random integers.\n",
        "    - Generates n = 10 random integers between 0 and 30000.\n",
        "### CNN/DailyMail Dataset:\n",
        "    - Loaded using load_dataset(\"cnn_dailymail\", \"3.0.0\").\n",
        "    - Contains articles and summaries used for NLP tasks such as summarization.\n"
      ]
    },
    {
      "cell_type": "code",
      "execution_count": null,
      "metadata": {
        "colab": {
          "base_uri": "https://localhost:8080/"
        },
        "id": "ty79srdoaPz_",
        "outputId": "19ccb584-6670-4566-c690-2bd8d6ed5647"
      },
      "outputs": [
        {
          "name": "stdout",
          "output_type": "stream",
          "text": [
            "DatasetDict({\n",
            "    train: Dataset({\n",
            "        features: ['article', 'highlights', 'id'],\n",
            "        num_rows: 287113\n",
            "    })\n",
            "    validation: Dataset({\n",
            "        features: ['article', 'highlights', 'id'],\n",
            "        num_rows: 13368\n",
            "    })\n",
            "    test: Dataset({\n",
            "        features: ['article', 'highlights', 'id'],\n",
            "        num_rows: 11490\n",
            "    })\n",
            "})\n"
          ]
        }
      ],
      "source": [
        "import numpy as np\n",
        "n = 10\n",
        "randindex = np.random.randint(30000,size=10)\n",
        "print(randindex)\n",
        "dataset = load_dataset(\"cnn_dailymail\", \"3.0.0\")\n",
        "print(dataset)"
      ]
    },
    {
      "cell_type": "markdown",
      "metadata": {},
      "source": [
        "##### Selecting Random Articles , BART Model\n",
        "\n",
        "Random indices are generated, and the corresponding articles from the dataset are selected.\n",
        "\n",
        "\n",
        "The BART (Bidirectional and Auto-Regressive Transformer) model is loaded using Hugging Face.\n",
        "This model is used for text summarization.\n",
        "\n",
        "##### Hugging Face Pretrained Models:\n",
        "\n",
        "The \"facebook/bart-large-cnn\" model is used for summarizing news articles."
      ]
    },
    {
      "cell_type": "code",
      "execution_count": null,
      "metadata": {
        "id": "HWRwewZIdlOo"
      },
      "outputs": [],
      "source": [
        "articles = dataset['train'][randindex]['article']\n",
        "# Load the BART model and tokenizer\n",
        "model_name = \"facebook/bart-large-cnn\"\n",
        "\n",
        "tokenizer = BartTokenizer.from_pretrained(model_name)\n",
        "model = BartForConditionalGeneration.from_pretrained(model_name)"
      ]
    },
    {
      "cell_type": "markdown",
      "metadata": {},
      "source": [
        "**Purpose:** This code defines a function summarize_text() that takes a text input and generates a summary using a pre-trained transformer model like BART.\n",
        "\n",
        "**Inputs:** The function accepts a text string and processes it with the tokenizer to convert it into a format suitable for the model. The input text is truncated to a maximum length of 1024 tokens to fit within the model's constraints.\n",
        "\n",
        "**Model Summarization:** It uses the model’s generate() method to create a summary with specific parameters like max_length, min_length, and beam search (num_beams=4) for optimal summary quality. Early stopping is applied to halt the generation process once a suitable summary is reached.\n",
        "\n",
        "**Output:** The function decodes the generated token IDs into a readable text summary and returns it, excluding any special tokens."
      ]
    },
    {
      "cell_type": "code",
      "execution_count": null,
      "metadata": {
        "id": "p7SvjJ5ndu6Y"
      },
      "outputs": [],
      "source": [
        "# Function to summarize text\n",
        "def summarize_text(text):\n",
        "    inputs = tokenizer(text, max_length=1024, return_tensors=\"pt\", truncation=True)\n",
        "    summary_ids = model.generate(inputs[\"input_ids\"], max_length=150, min_length=40, length_penalty=2.0, num_beams=4, early_stopping=True)\n",
        "    summary = tokenizer.decode(summary_ids[0], skip_special_tokens=True)\n",
        "    return summary"
      ]
    },
    {
      "cell_type": "markdown",
      "metadata": {},
      "source": [
        "**Purpose:** This loop processes a list of articles, applies the summarize_text() function to each article, and prints both the original article and its summary.\n",
        "\n",
        "**Iteration over Articles:** The code iterates through the articles list using enumerate() to keep track of both the index (i) and the article content.\n",
        "\n",
        "**Summarization Process:** For each article, the function summarize_text(article) is called, generating a summary based on the pre-trained model (such as BART).\n",
        "\n",
        "**Output:** For each article, the code prints:\n",
        "The original article (Original Article {i+1}).\n",
        "The generated summary (Summary {i+1}).\n",
        "A separator line (\"-\" * 80) for readability between articles."
      ]
    },
    {
      "cell_type": "code",
      "execution_count": null,
      "metadata": {
        "colab": {
          "base_uri": "https://localhost:8080/"
        },
        "id": "d5cVI4WMd2uX",
        "outputId": "174fa9f2-8cca-4600-8566-0bbc3303a280"
      },
      "outputs": [
        {
          "name": "stdout",
          "output_type": "stream",
          "text": [
            "Original Article 1:\n",
            "Washington (CNN) -- House Speaker Nancy Pelosi on Tuesday led jubilant legislators and soldiers discharged under the \"don't ask, don't tell\" policy in singing \"God Bless America\" to celebrate the upcoming repeal of the controversial law. President Barack Obama will sign the repeal bill on Wednesday, and Pelosi did her part at the ceremony attended by hundreds of supporters of the repeal by signing the measure passed by Congress to send it to the White House. The \"don't ask, don't tell\" policy enacted in 1993 banned openly gay and lesbian soldiers from military service. More than 14,000 military members have been discharged because of it. Pelosi, a California Democrat, said the military will be made stronger by including all Americans who want to serve without making gay and lesbian members lie about who they are. \"Isn't this a joyful day?\" she said, adding that the repeal measure will \"change the law, improve the policy, make life better for many Americans, and make our country stronger.\" Pelosi then asked all in attendance to sing \"God Bless America.\" At the end, Democratic Rep. Barney Frank of Massachusetts, one of the first openly gay House members, could be seen wiping his eyes. Earlier, Democratic Rep. Patrick Murphy of Pennsylvania told the gathering of an e-mail he received from a company commander in Afghanistan, who mentioned how he often had to counsel soldiers who received divorce papers or \"Dear John\" letters from spouses or opposite-sex partners. Murphy continued: \"This young company commander, this captain, on his fourth deployment, wrote in that e-mail saying, 'I never thought I'd see the day when I got one of those letters myself. And I'm sitting here at three o'clock in the morning in Kabul, Afghanistan, and I have no where to go because I happen to be gay, and I can't walk to the chaplain, and I can't go to a battle buddy, and I can't walk to my commander's office, so I'm sitting here cradling my 9 mm pistol thinking about blowing my brains out. But I read this article about this Iraq war veteran named Patrick Murphy from Pennsylvania that's fighting for me, and it gives me hope.'\" The repeal bill, a campaign promise by Obama, won Senate approval on Saturday in the final days of the lame-duck session. The House passed it twice -- first as part of a broader defense bill that was blocked by Senate Republicans, and then in the separate measure passed by the Senate. Conservative Republicans opposed the repeal, saying it would put too much stress on a military fighting two wars. However, Defense Secretary Robert Gates and Joint Chiefs of Staff Chairman Adm. Mike Mullen both called for a congressional repeal with a set phase-in timetable, warning that \"don't ask, don't tell\" could otherwise be abruptly overturned by the courts. Under the repeal measure, the Pentagon will finish developing an implementation plan that rewrites policies, regulations and directives. Once that potentially lengthy process is complete, Obama, Gates and Mullen will each have to certify that the repeal can move ahead without negatively affecting military readiness and unit cohesion. After the certification, another 60 days will need to pass before the repeal is officially enacted. CNN's Tom Cohen contributed to this story.\n",
            "\n",
            "Summary 1:\n",
            "NEW: Rep. Barney Frank, one of the first openly gay House members, is seen wiping his eyes. President Barack Obama will sign the repeal bill on Wednesday. The \"don't ask, don't tell\" policy banned openly gay and lesbian soldiers from military service. More than 14,000 military members have been discharged because of it.\n",
            "\n",
            "--------------------------------------------------------------------------------\n",
            "Original Article 2:\n",
            "(CNN) -- Will Bunch's CNN.com tirade earlier this week against television host Glenn Beck and David Barton -- the founder and president of WallBuilders, a national pro-family organization that emphasizes history's \"moral, religious and constitutional heritage\" -- for allegedly creating \"pseudo history\" reveals more about Mr. Bunch than it does about what Mr. Beck and Mr. Barton are presenting. Mr. Bunch seems, above all, to be annoyed that many people are no longer staying on the liberal plantation of secularized American history. He offers little in the way of examples of error, just differences of opinion, such as his own assertion about \"the much-debunked idea that America's creation was rooted in Christianity.\" Much debunked? That would have been news to many of the Founding Fathers, whose biblical understanding of man as created in the image of God informed their insistence in the Declaration of Independence that people have \"unalienable rights\" to \"life, liberty and the pursuit of happiness.\" This was tempered by the biblically informed idea that man is prone to sin. In the Federalist Papers, No. 51, for example, James Madison wrote, \"But what is government itself, but the greatest of all reflections on human nature? If men were angels, no government would be necessary.\" Therefore, any government formed by men needs checks and balances to avoid tyranny. On a more elementary level, the signers of the Declaration and the Constitution were mostly Christian. You can look it up. Bunch complains that, \"In April, Barton told Beck's 3 million TV viewers that 'we use the Ten Commandments as basis of civil law and the Western world [and it] has been for 2,000 years.' \" Glenn Beck rewrites civil rights history . Perhaps this is why the Ten Commandments numerals are represented at the bottom of a door to the U.S. Supreme Court courtroom and why Moses, revered as the lawgiver to Jews in the Hebrew bible, and Christians in the New Testament, appears holding two tablets elsewhere in the Supreme Court building. He appears between the Chinese philosopher Confucius and Solon, the Athenian statesman -- at the center of a frieze of historic lawgivers on the building's East Pediment. Moses is also among an array of lawgiver figures depicted over the Court's chamber. Tellingly, Mr. Bunch does not dispute the accuracy of the quotes that Mr. Barton cites that spell out a Christian understanding of law and man among some of the Founding Fathers. In a letter to Thomas Jefferson, written 37 years after the Declaration of Independence, John Adams wrote: \"The general principles, on which the Fathers achieved independence, were the only Principles in which that beautiful Assembly of young gentlemen could Unite. ... And what were these general Principles? I answer, the general Principles of Christianity, in which all these Sects were United: ... Now I will avow, that I then believe, and now believe, that those general Principles of Christianity, are as eternal and immutable, as the Existence and Attributes of God; and that those Principles of Liberty, are as unalterable as human Nature and our terrestrial, mundane System.\" John Jay, the first chief justice of the Supreme Court, wrote in a letter to a friend, \"Providence has given to our people the choice of their rulers, and it is the duty, as well as the privilege and interest of our Christian nation to select and prefer Christians for their rulers.\" Mr. Bunch further complains that Barton \"gives less than short shrift to the real achievement of the Founders in separating church and state.\" I would argue that their real achievement was elsewhere. Their real achievement was far larger: creation of  a unique, limited government with protections for the freedoms of religion, speech, press and assembly and protection of  property rights, without which no freedom exists. The result was the most prosperous and freest nation in history. And property rights are endorsed throughout the Bible. The \"wall of separation between church & state,\" by the way, is not in the Constitution. It's from a letter from President Thomas Jefferson to the Danbury, Connecticut, Baptists, who were concerned that the national government would favor one Christian denomination over others. But Mr. Jefferson's  phrase has become a sacred totem used by activist judges to drive Christian symbols from the public square. The real reason that Mr. Bunch is so exercised is that the truth about America's Christian founding is getting out, despite media hostility, politically correct schoolbooks and rising intolerance toward any public expression of faith -- unless it advances leftist goals. America is a unique beacon of freedom precisely because of its founders' Christian perspective, which has protected the right of conscience and thus freedom of religion for Jews, Muslims, Hindus, Buddhists and nonbelievers. Try to identify another nation on Earth that similarly advanced individual rights without being influenced by Christianity. Beck and Barton are striking what Abraham Lincoln described in a different context as the \"mystic chords of memory.\" It makes perfect sense that many Americans are tuning in. The opinions expressed in this commentary are solely those of Robert Knight.\n",
            "\n",
            "Summary 2:\n",
            "Will Bunch says Glenn Beck and David Barton are creating \"pseudo history\" He says the Founding Fathers were mostly Christian. Bunch: America is a unique beacon of freedom because of its Christian perspective.\n",
            "\n",
            "--------------------------------------------------------------------------------\n",
            "Original Article 3:\n",
            "LONDON, England (CNN) -- It's a question that I have asked myself for a long time. Why can't Portugal produce a top golfer? Antonio Sobrinho was the only Portuguese golfer to make the cut at the recent Portugal Masters. The weather is great, courses are popping up all over the country, and still, they don't have a single player in the top 400 of the world rankings. On the surface, it might not make sense, but if you dig a little a deeper, like I had a chance to do during a recent Living Golf report in the Algarve, there are plenty of reasons why golf isn't taking off among the locals. The most shocking statistic of all is that in the whole country there is not a single public golf course. This means if you want to play, you have to become a member of a club or pay something in the region of 100 Euros ($137) for a round of golf. Considering the minimum salary in Portugal is under 400 Euros a month, it becomes clear the vast majority of Portuguese people simply can't afford it. This means most of the people out on golf courses in Portugal are foreign, and while this is great for tourism, it's doing nothing to help the grass roots of the game in the country. Another issue is that the sport is seen as elitist and is not part of the nation's sporting culture. There is great passion among Portugal's youngsters, as there is in many European countries, for football. And though people play other sports, and you can get lessons in sports like golf, there is an almost complete lack of interest -- no-one really talks about golf. What the country really needs is a golfing superstar to kick-start a revolution and inspire the new generation -- a Cristiano Ronaldo of golf. The Portuguese Golf Federation says the tide is turning and they claim they are doing their best to invest in young amateur players. They also have allies with some of the private investors who have built golf courses in Portugal sponsoring some of the nation's top prospects. Oceanico is an example of this, with the company that has built seven courses in the Algarve backing three of Portugal's five professionals. The more organizations that invest in up-and-coming golfers like this, the more chance Portugal will have in producing the next Tiger Woods. There could yet be hope for golf in the country, but it will take more investment, more time and a figure to unite an otherwise football obsessed country around a relatively neglected sport. Watch Pedro examine Portugal's golf scene on this month's Living Golf, which airs Thursday, November 6, 1400, 1830; Saturday, November 8, 0800, 1830 Sunday; November 9, 0400, 0830, 1430 (all times GMT).\n",
            "\n",
            "Summary 3:\n",
            "Portugal doesn't have a single player in the top 400 of the world rankings. In the whole country there is not a single public golf course. The sport is seen as elitist and is not part of the nation's sporting culture.\n",
            "\n",
            "--------------------------------------------------------------------------------\n",
            "Original Article 4:\n",
            "(CNN) -- Nationalists held a narrow lead in Kyrgyzstan's parliamentary elections, the country's election commission said Monday. Of the 87 percent of the votes counted by Monday morning, the Ata Zhurt party had won 8.6 percent, said Nuriya Iskanderova, a consultant for the commission. The other four main parties followed with narrow margins separating them. The pro-government SDPK (Social-Democratic Party of  Kyrgyzstan)  won 7.97 percent of the counted votes; followed by the . Arnamys Party (7.12 percent); the Republic Party (7.02 percent) and the Atameken Party (5.94 percent). The election commission has to announce final results within two  weeks, said Klara Sooromkulova, a member of the election commission. Voters in the Central Asian nation went to the polls Sunday to elect a new parliament. The elections come after a year that has seen the president flee the country and ethnic riots that left hundreds dead. International monitors did not report any major complaints on election day, though local observers from the political parties were more vocal with their concerns, Sooromkulova said. Voter turnout was high, especially in the south of the country, she said, including a 56 percent turnout in the capital, Bishkek. The new government will have to rebuild \"the entire infrastructure of the government, as well as the rebuilding of social cohesion and trust between ethnic groups,\" said Kanat Saudabayev, a top official with the Organization for Security and Cooperation in Europe. President Kurmanbek Bakiyev was deposed in April and was replaced by Roza Otunbayeva, who became the first female president of a Central Asian nation. Two months later, at least 356 people were killed and about 400,000 fled their homes in a wave of violence between ethnic Kyrgyz and Uzbeks. Shortly after that, Kyrgyz voters approved a new constitution that puts more power in the hands of parliament, reducing the president's role. \"Following the June situation of unrest and violence, it was not easy to organize the elections,\" Sooromkulova said. Kyrgyzstan hosts a United States air base which is an essential supply route for NATO personnel and equipment into Afghanistan, called Manas Transit Center, as well as a Russian military base, Kant, just outside of the capital Bishkek. Nearly 2.9 million people were eligible to vote for 120 lawmakers in a parliament called the Jogorku Kenesh, the Central Election Commission said. There were 850 international election observers representing 32 organizations and 52 countries. CNN's Bharati Naik contributed to this report.\n",
            "\n",
            "Summary 4:\n",
            "Nationalists hold a narrow lead in Kyrgyzstan's parliamentary elections. Of the 87 percent of the votes counted, the Ata Zhurt party had won 8.6 percent. The other four main parties followed with narrow margins separating them. Voters in the Central Asian nation went to the polls Sunday to elect a new parliament.\n",
            "\n",
            "--------------------------------------------------------------------------------\n",
            "Original Article 5:\n",
            "(CNN) -- South Korea's prime minister has offered to resign, his  communications office said Monday, after failure to win parliamentary  approval to stop relocation of  government offices out of the  capital, Seoul. Prime Minister Chung Un-chan verbally offered to resign, but President Lee Myung-bak did not accept his offer, the office said. Chung offered to resign after failure to win the parliamentary approval, a major setback to Lee's government and a sign that his party is losing clout. The president's Grand National Party has taken a beating in local elections, which analysts see as a referendum on his handling of the Cheonan incident. The South Korean naval ship Cheonan sank March 26 in disputed waters.  The loss of the ship and 46 sailors raised tensions on the Korean Peninsula. North Korea has vehemently denied charges it fired a torpedo that sank the Cheonan. CNN's Roya Shadravan contributed to this report.\n",
            "\n",
            "Summary 5:\n",
            "Prime Minister Chung Un-chan verbally offered to resign. President Lee Myung-bak did not accept his offer. Failure to win parliamentary approval is a major setback to Lee's government. The president's Grand National Party has taken a beating in local elections.\n",
            "\n",
            "--------------------------------------------------------------------------------\n",
            "Original Article 6:\n",
            "(CNN) -- CNN's Larry King talked with Republican Gov. Bobby Jindal in a prime-time exclusive interview Monday night. Lousiana Gov. Bobby Jindal on Barack Obama: \"I'm certainly not nearly as good of a speaker as he is.\" Jindal gave the Republican response after President Obama's address to Congress last week. Jindal received negative reviews after the speech, and Larry asked him how he felt about that. They also talked about the war of words in the Republican Party centered around Rush Limbaugh. The following transcript has been edited for brevity and clarity: . Larry King: Governor, you took a lot of flak for that speech. Were you surprised that you did? Gov. Bobby Jindal: Let's be clear, the president is a great speaker -- probably the greatest we've seen in a generation. I'm certainly not nearly as good of a speaker as he is. And I'm not the only one that's got that opinion. I hope people look at the content of the speech, not just the delivery. You know, for years, I've been told I speak too quickly. Now I'm told I speak too slowly. What's more important is I was outlining a philosophical difference with the stimulus package, with the leadership in Congress, with the administration. I was outlining a philosophical disagreement that says we need to get businesses hiring again. We need to put more money in the private sector.  Watch Larry King's interview with Gov. Bobby Jindal » . Let's cut taxes. Let's get rid of the wasteful spending. That's the debate. That's the discussion we need to be having. King: But governor, to say that the federal government apparently has no voice in this crisis, when in some cases, they are the only answer, that pointed to a lot of the criticism, didn't it? Jindal: If the president had actually delivered the targeted temporary stimulus package that he described, I think you'd see a lot more conservative and Republican support. We absolutely agree with the kind of infrastructure spending he describes -- speeding up federal spending that would have happened anyway. Less than 5 percent of this bill was actually [for] the shovel-ready infrastructure spending that he described.  ... Fundamentally, I don't think $30 million for the federal government to buy new cars, $1 billion for the Census, $50 million for the National Endowment for the Arts is going to get the economy moving again as quickly as allowing the private sector to create jobs. King: There was no criticism of the Bush bailout of the automobile industry. No criticism of the last eight years of the Republican leadership with a tremendous deficit. Jindal: Well, Larry, I think that you're absolutely right. One of the reasons the Republicans lost the elections in 2006 and 2008 is the Republican Party didn't match its actions with its rhetoric. ... I think one of the reasons we lost elections was that the Republicans came to Washington to change the culture and instead became captive of that culture. The Republican Party defended spending and corruption we never would have accepted from the other side. King: Governor, if perception is reality, do you think your speech hurt the party? Jindal: I think that people are going to look at the content. I think people are going to be focused now that we've [got] alternative views on how to move our country forward. Let me begin the first to say we want to work with the president every chance we can get. Whenever we can find areas of agreement, we need to work across the aisle and put America first. But when we disagree, we need to offer principled alternative solutions. So for example, in health care, I agree with the president that health care should be affordable for every American. I just don't think it should be a government-run program. King: All right, governor, here was Rush Limbaugh at this weekend's CPAC Conference. Watch. Rush Limbaugh: What is so strange about being honest and saying I want Barack Obama to fail if his mission is to restructure and reform this country so that capitalism and individual liberty are not its foundation? Why would I want that to succeed? King: Governor, do you think people are thinking about capitalism now or are they thinking about problems? Jindal: Look, clearly, the American people are worried about paying their mortgages, keeping their jobs and paying their health care bills. I think Rush is a great leader for conservatives. I think he articulates what a lot of people are concerned about. King: Do you want him [Obama] to fail? Jindal: I don't want those policies to be adopted. I want my country to succeed, but I don't want policies to be adopted. King: What if the policies work? Jindal: Well, again... King: What if they work? Jindal: This is where we have a fundamental disagreement. I don't think it's going work ... to spend in excess of our revenues. I want my country to succeed. But what I worry about is that simply spending money on new programs. Look at every new bailout. You talked about the auto bailouts. Then you had the fourth, I think it's the fourth -- it's hard to keep track -- AIG bailout today. It seems like every time you turn around, there's another trillion dollar plan. King: One more thing. It may be moot now, but RNC Chairman Michael Steele took some shots at Limbaugh and then apologized. What do you make of all of that? Jindal: Well, I didn't follow the day's events. I'm glad he apologized. I think the chairman is a breath of fresh air for the party. As I said before, I think Rush is a leader for many conservatives and says things that people are concerned about. [He] articulates very well the concern people have about growing government spending without an end in sight. King: Thanks, governor. We'll call on you again. Always good seeing you. Jindal: Thank you, Larry.\n",
            "\n",
            "Summary 6:\n",
            "Lousiana Gov. Bobby Jindal: \"I'm certainly not nearly as good of a speaker as he is\" Jindal says he was outlining a philosophical difference with the stimulus package. \"I don't think $30 million for the federal government to buy new cars is going to get the economy moving again,\" Jindal says.\n",
            "\n",
            "--------------------------------------------------------------------------------\n",
            "Original Article 7:\n",
            "(CNN) -- Presumptive Republican presidential nominee Mitt Romney used an event at the USS Wisconsin in Norfolk, Virginia, Saturday to announce Rep. Paul Ryan, R-Wisconsin, as his vice presidential pick. Romney's choice of Ryan is considered by political observers to be a bold, risky move that could potentially change the dynamic of the Oval Office race. CNN Exclusive: How Romney chose his running mate . By the numbers, here's a look at Paul Ryan: . 28 - Ryan's age when he was first elected to Congress, in 1998. 3 - Children with his wife, Janna - Liza, Charlie and Sam. Polls: Paul Who? 104 - Times Paul Ryan's Wikipedia entry has been updated so far today, since Ryan was announced as Mitt Romney's running mate. Ryan's selection energizes both sides . $5 trillion - Proposed spending cuts over the next decade in Ryan's 2013 budget proposal, \"The Path to Prosperity,\" relative to President Obama's budget. Paul Ryan, top GOP voice on fiscal matters . 25% - The corporate tax rate under Ryan's budget plan. 2 - Number of proposed federal income tax brackets, 10% and 25%, under Ryan's plan. 6 - Number of current federal income tax brackets. Romney camp prepares Medicare defense after Ryan pick . 173,783 - Followers for Ryan's preexisting Twitter account @RepPaulRyan. 57, 744 - Followers for Ryan's new campaign-related Twitter account @PaulRyanVP that was launched today. 153,000 -\"Likes\" for Ryan's pre-existing Facebook page. 64,000 - \"Likes\" for Ryan's new campaign-related Facebook page launched today. 6 - Number of days a week you have to work out on the P90X exercise regimen. Ryan is a big fan of the regimen. 80 - Years since a U.S. congressman was elected vice president. John Nance Garner, D-Texas, was FDR's running mate in 1932 and served until 1941. 51 - Percent of the vote received by Barack Obama in 2008 in Wisconsin's 1st District, the one Ryan represents. Analysis: A bold but risky choice . 47 - Percent of the vote received by John McCain there in 2008. 68 - Percent of the vote Ryan received in the 2010 election, after a recount. Romney's choice of Ryan changes the race . 9.4% - Unemployment rate in Janesville, Wisconsin, Ryan's hometown, in June 2012. 8.2% - Unemployment rate nationwide, in June 2012. 156 - Years since a major party presidential ticket with the two last names starting with the same letter. The last time was in 1856, with Democratic president and vice presidential candidates James Buchanan and John Breckinridge. 1 - Times Ryan has driven the Oscar Mayer \"Wienermobile.\" Watch CNN tonight at 7 and 10 ET for an in-depth look at Paul Ryan and the next steps for Mitt Romney's presidential campaign.\n",
            "\n",
            "Summary 7:\n",
            "28 - Ryan's age when he was first elected to Congress, in 1998. 3 - Children with his wife, Janna - Liza, Charlie and Sam. 51 - Percent of the vote received by Barack Obama in 2008 in Wisconsin's 1st District. 68 - Percentof the vote Ryan received in the 2010 election, after a recount.\n",
            "\n",
            "--------------------------------------------------------------------------------\n",
            "Original Article 8:\n",
            "Los Angeles, California (CNN) -- \"Transformers\" actress Megan Fox said \"yes\" to ex-fiance Brian Austin Green's marriage proposal, just four months after calling off a two-year engagement with Green, her publicist confirmed. Fox, 24, was so excited when Green, 36, popped the question on a Hawaii beach that she dropped the 2-carat diamond engagement ring into the sand, Us Weekly magazine reported. Despite a lengthy search by hotel staffers, the ring was never found, the magazine reported. Fox and Green began dating six years ago and became engaged for the first time in 2007. They broke it off last February. Marriage may be easier for Fox now that she's out of the \"Transformers\" franchise. Director Michael Bay announced this month that she is being replaced as Shia LaBeouf's love interest by model-actress Rosie Huntington-Whiteley for \"Transformers 3.\" Fox portrayed Mikaela Banes in the first \"Transformers\" and its sequel \"Transformers: Revenge of the Fallen.\" Green spent a decade playing David Silver on the hit TV series \"Beverly Hills, 90210\" until it was canceled in 2000. CNN's Brittany Kaplan contributed to this report .\n",
            "\n",
            "Summary 8:\n",
            "Megan Fox says \"yes\" to ex-fiance Brian Austin Green's marriage proposal. Fox and Green began dating six years ago and became engaged for the first time in 2007. They broke it off last February after two years of dating.\n",
            "\n",
            "--------------------------------------------------------------------------------\n",
            "Original Article 9:\n",
            "(CNN) -- \"My MEDVOL number is 6856. I was at Edgewood Arsenal from January 1975 to April 1975.\" With those words, Stephen Coffman reached out to CNN last week after seeing its stories about Edgewood Arsenal, where the Army conducted top-secret drug and chemical tests on soldier volunteers. Coffman was just 22 years old when he was recruited for testing at Edgewood, one of about 7,000 soldiers who took part in the program from 1955 to 1975. The Army field computer operator says that in December 1974, Edgewood Arsenal recruiters came to Fort Campbell, Kentucky, where he was stationed and told him he could help design the new field artillery computer system. In January 1975, he reported to Edgewood. His first test was non-chemical, simply determining what size keyboard to use, he remembers. A display would flash a series of numbers, and he would try to input them using the test keypad and his bare hands. Next, he repeated the task wearing gloves. Then mittens. \"Then it was with a gas mask on,\" Coffman said. \"Then with a gas mask on in a gas chamber. Then it was 'try to input the numbers after being exposed to some gas.' My accuracy rate went from 99% barehanded to 57% gassed.\" The testing continued. One in particular haunts him to this day: He recalls being in a \"padded cell\" with just a thin exercise mat and a blanket. The room was orange; the walls \"flowed down onto the floor like lava.\" \"I remember putting my finger in the lava and watching it flow around my finger,\" he says. \"There was a nurse who would come in and take blood samples, urine -- I had to wait till they came in to void -- and give me water. I do not know how many days I was in there. I lost seven pounds during this 'lost period.' \" Coffman said that after that test, he was told to report to the medical center and was shown a piece of paper that he had signed, volunteering for other experiments. He didn't remember signing but says it was his signature. \"I was told that if I did not do the experiment as I had agreed, I would be listed as UNSAT and returned to Fort Campbell.\" UNSAT is a military term that means the service member is \"unsatisfactory.\" In other words, the service member failed to complete his or her assignment. \"It is not a label one wants to have applied to them,\" Coffman said. \"We were isolated and given injections. I secretly wrote down what the vials said, but my notes were taken from me by a doctor. I was threatened with punishment. The tests continued.\" In an effort to find out what drugs he had been given and what his health files contained, Coffman filed a Freedom of Information Act request. He got his records in 1985. They showed that he had been given a potentially deadly nerve agent called sarin gas -- and its antidotes. According to the records, he had also been exposed to physostigmine, scopalmine and 2-PAMC1, and these were used \"to treat anticholinesterase inhibitor overdoses.\" He was also given a chemical called TAB. He still has no idea what it was. Coffman says that before the testing began, he was given a complete physical. His EKG -- a test that records the heart's electrical activity -- was perfect, and he was rated in perfect shape. \"According to the FOIA, I was subjected to the same chemical twice within 25 days,\" Coffman said. \"The doctor's note ... noted that two exposures so close together caused a negative reaction to the subject's heart.\" For most veterans in the program, the stay was two months, but Coffman's stay was extended to four. When his Edgewood tour was up, he went back to Fort Campbell. \"I was sent back with the threat of 'don't tell anyone anything, and if anyone asks, say you are fine.' \" He was honorably discharged from the Army in 1977. He spent a year with the National Guard and joined the Coast Guard Reserve in 1988. In 1995, another EKG showed abnormalities. His began seeing a private cardiologist. An MRI revealed 98% blockage in one of his arteries, and the cardiologist asked whether he had ever had an injury to his heart. \"He said it looked like the heart had been damaged but not due to a heart attack.\" In 2007, Coffman had a quadruple bypass. To this day, he wonders whether the damage was related to Edgewood. All things considered, the married father of two says, he does not regret his service. \"I believe it may have helped save the lives of other soldiers in the case of chemical attacks. I recall that (the doctor) who conducted the tests was instrumental in helping the victims of the Tokyo subway terrorist attack,\" Coffman said. \"I guess it is like when a service member goes to war and gets wounded but does not regret their decision to go to war.\" 'Time bomb' His only concern, he says, is for his two children. \"There is nothing in the file about the experiments where I was kept in the padded cell. That is what I would like to know about for my children's sake. Considering Agent Orange has been shown to affect veterans' offspring and possibly second generation, it is like having a time bomb that may go off or may be a dud.\" This was just one of the stories CNN got from Edgewood Arsenal test veterans responding to the special investigations of the Army's top-secret Cold War drug and chemical testing program. Buck Conder, 70, said he volunteered at Edgewood in 1964. He remembers putting on a hospital gown, getting in bed and having six or seven doctors arrive bedside in gas masks. They put a drop of liquid on the inside of his forearm. \"Whatever happened, I have no idea. I woke up in the same bed\" 24 hours later, Conder said. In 2000, Conder received a call notifying him that he'd been exposed to sarin gas. Conder, who says he was wounded while serving two tours in Vietnam, has a blood disease and a related skin condition that he blames on chemical exposure at Edgewood. Conder also said he was more nervous and irritable after his two-month temporary duty at the Maryland base. Read about widow who blames VA for her husband's death . Jeff Jefferson went to Edgewood in 1966 to be closer to his home in Reading, Pennsylvania. He recalls getting an injection on a Monday; he \"woke up\" on Wednesday. In the past year or two, Jefferson says, he applied for his records and learned that he'd been given BZ, an incapacitating agent. Jefferson says he remembers little of what happened while he was under the influence of BZ, but he thinks they went to the rifle range, because his thumb was bruised, apparently from getting caught in the breech of an M1 rifle. Jefferson, now 65, says his health has been good. Dr. James Ketchum, a former Edgewood researcher, took issue with veteran Tim Josephs, who said he was coerced into taking part in the tests after arriving at Edgewood. \"No one was forced to participate nor told they would be punished or imprisoned if they chose not to take part,\" Ketchum commented on CNN.com. \"Those who participated all received letters of commendation and all received thorough medical evaluations before and after being in the program.\" Gordon Erspamer, the attorney who has filed a lawsuit seeking health care for Edgewood veterans, said Josephs' story is not unique. A number of Edgewood veterans have told him superiors threatened repercussions for soldiers who quit: . \"You're going to get a bad conduct discharge, or we're going to write you up and send you back, and we're going to send you right to Vietnam,\" Erspamer said. Read about Tim Josephs' time at Edgewood . 'I was easily swayed' Michael Cooney, now 62, was still a teenager when he started his two-month tour at Edgewood. \"Since I was only 19, I was easily swayed, wanting to do my patriotic duty,\" he says. \"I have no idea what they injected into me, as I can't recall much of my two months there.\" Cooney says that since his discharge, he gets a survey every five to 10 years asking how his health is. \"I always responded by asking them for a physical and a request to know what they tested on me,\" Cooney said. \"Those questions were never answered.\" He knows he was injected with atropine and was tear-gassed. He says that while he's not in perfect health, he doesn't blame Edgewood Arsenal but feels the government should take responsibility for those harmed. He says he'd do it again. \"I'm patriot, but don't send me out in a war unarmed, and if I come back injured, take care of me. I'd volunteer in a minute if there was a need, but there needs to be government responsibility on the back end.\"\n",
            "\n",
            "Summary 9:\n",
            "Stephen Coffman was one of about 7,000 soldiers who took part in the program. He says he was given a potentially deadly nerve agent called sarin gas. His records showed that he had been exposed to physostigmine, scopalmine and 2-PAMC1.\n",
            "\n",
            "--------------------------------------------------------------------------------\n",
            "Original Article 10:\n",
            "JACKSONVILLE, North Carolina (CNN) -- Christina Laurean has told authorities she was attending a Christmas party on the night her husband allegedly killed pregnant Marine Lance Cpl. Maria Lauterbach, according to police. Marine Cpl. Cesar Laurean, wanted for murder, may have fled to his native Mexico. Marine Cpl. Cesar Laurean is charged with first-degree murder. He remains at large, and authorities say he may have fled to Mexico. Also, an affidavit obtained Thursday by CNN states that Christina Laurean knew about the death one day before reporting it to authorities. The Marines were assigned to Camp Lejeune, North Carolina. Lance Cpl. Maria Lauterbach was eight months pregnant when she was reported missing December 19. Authorities say she was killed four days earlier. A warrant allowed authorities to search Western Union records. Authorities said in the accompanying affidavit that Cesar Laurean and his wife received a transfer of money between December 10 and January 12. The affidavit provided no other details. Authorities requested the search warrant and all accompanying documents be sealed. The FBI says Laurean may have fled to his native country of Mexico. Cesar Laurean, 21, is a naturalized U.S. citizen. He mailed at least one letter from Houston, Texas, since his disappearance, CNN affiliate KPRC in Houston reported Thursday. According to the affidavit, Christina Laurean, 25 -- who also is a Marine -- went with her husband to a Jacksonville attorney on January 10, and the lawyer told Cesar Laurean he could face the death penalty. The next day, Christina Laurean reported Lauterbach's death to the Onslow County Sheriff's Office, where she appeared with an attorney and a sergeant from her former chain of command. She turned over to deputies several notes from her husband that she said she found at their home. In the notes, Cesar Laurean said Lauterbach committed suicide and he buried her. Lauterbach, 20, had accused Cesar Laurean of raping her and was to testify at a military hearing not long after her disappearance. According to a co-worker, she feared Cesar Laurean, although the military said she told prosecutors she did not. Lauterbach's allegations involved two encounters -- one on or about March 26 and one approximately two weeks later, the Marines told CNN. Lauterbach received two protective orders, one of which was in effect when she died. Christina Laurean on January 11 told authorities her husband had denied the rape allegations and said he was not the baby's father, according to the affidavit. In the document she says her husband told her: . Dubois contends the facts show probable cause exists to show that Cesar Laurean \"committed murder.\" The detective said he doesn't believe Lauterbach committed suicide, especially because she had told people she wanted the child. Christina Laurean told police she was at a Christmas party for her husband's Marine unit during the late afternoon and evening of December 15, Onslow County Sheriff Ed Brown told CNN. Her husband did not attend the party, she told authorities. Lauterbach's charred remains and those believed to be of her unborn child were found in a fire pit in the Laureans' backyard. Police have said blood spatters were found throughout the Laurean home on walls and ceilings, and evidence showed someone tried to clean them up and paint over them. DNA testing is being conducted to see if Lauterbach's unborn baby was fathered by Cesar Laurean, Brown said, adding there was no rush on the part of detectives to get those results. The FBI is offering a $25,000 reward for information leading to Cesar Laurean's arrest. Anyone in Mexico with information is asked to contact the legal attache at the U.S. Embassy in Mexico City. Meanwhile, authorities have discovered the weapon likely used to kill Lauterbach, a spokesman for the Onslow County Sheriff's Office said Thursday. Authorities have said the woman died of blunt force trauma to the head. A man who had rented a room to Lauterbach, Sgt. Daniel Durham, told investigators he found a note from her December 14 -- the day she was last seen -- saying she was tired of the Marine Corps life and was leaving. E-mail to a friend . CNN's Rusty Dornin contributed to this report.\n",
            "\n",
            "Summary 10:\n",
            "Marine Cpl. Cesar Laurean is charged with first-degree murder. He remains at large, and authorities say he may have fled to his native Mexico. Christina Laurean told authorities she was at a Christmas party on the night of the death. Authorities have said the woman died of blunt force trauma to the head.\n",
            "\n",
            "--------------------------------------------------------------------------------\n"
          ]
        }
      ],
      "source": [
        "for i , article in enumerate(articles):\n",
        "    summary = summarize_text(article)\n",
        "    print(f\"Original Article {i+1}:\\n{article}\\n\")\n",
        "    print(f\"Summary {i+1}:\\n{summary}\\n\")\n",
        "    print(\"-\" * 80)\n"
      ]
    }
  ],
  "metadata": {
    "accelerator": "TPU",
    "colab": {
      "gpuType": "V28",
      "provenance": []
    },
    "kernelspec": {
      "display_name": "Python 3",
      "name": "python3"
    },
    "language_info": {
      "name": "python"
    }
  },
  "nbformat": 4,
  "nbformat_minor": 0
}
