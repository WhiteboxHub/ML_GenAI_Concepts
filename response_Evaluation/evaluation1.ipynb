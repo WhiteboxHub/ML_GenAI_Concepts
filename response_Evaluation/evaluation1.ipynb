{
 "cells": [
  {
   "cell_type": "code",
   "execution_count": 1,
   "metadata": {},
   "outputs": [
    {
     "name": "stderr",
     "output_type": "stream",
     "text": [
      "/Library/Frameworks/Python.framework/Versions/3.12/lib/python3.12/site-packages/sentence_transformers/cross_encoder/CrossEncoder.py:13: TqdmWarning: IProgress not found. Please update jupyter and ipywidgets. See https://ipywidgets.readthedocs.io/en/stable/user_install.html\n",
      "  from tqdm.autonotebook import tqdm, trange\n"
     ]
    }
   ],
   "source": [
    "import json\n",
    "import numpy as np\n",
    "import os\n",
    "import faiss\n",
    "from pdfminer.high_level import extract_text\n",
    "from sentence_transformers import SentenceTransformer\n",
    "# from huggingface_hub import hf_hub_download\n",
    "\n"
   ]
  },
  {
   "cell_type": "code",
   "execution_count": 1,
   "metadata": {},
   "outputs": [
    {
     "name": "stdout",
     "output_type": "stream",
     "text": [
      "Requirement already satisfied: fitz in /Library/Frameworks/Python.framework/Versions/3.10/lib/python3.10/site-packages (0.0.1.dev2)\n",
      "Requirement already satisfied: configobj in /Library/Frameworks/Python.framework/Versions/3.10/lib/python3.10/site-packages (from fitz) (5.0.9)\n",
      "Requirement already satisfied: configparser in /Library/Frameworks/Python.framework/Versions/3.10/lib/python3.10/site-packages (from fitz) (7.1.0)\n",
      "Requirement already satisfied: httplib2 in /Library/Frameworks/Python.framework/Versions/3.10/lib/python3.10/site-packages (from fitz) (0.22.0)\n",
      "Requirement already satisfied: nibabel in /Library/Frameworks/Python.framework/Versions/3.10/lib/python3.10/site-packages (from fitz) (5.3.2)\n",
      "Requirement already satisfied: nipype in /Library/Frameworks/Python.framework/Versions/3.10/lib/python3.10/site-packages (from fitz) (1.8.6)\n",
      "Requirement already satisfied: numpy in /Library/Frameworks/Python.framework/Versions/3.10/lib/python3.10/site-packages (from fitz) (1.26.4)\n",
      "Requirement already satisfied: pandas in /Library/Frameworks/Python.framework/Versions/3.10/lib/python3.10/site-packages (from fitz) (2.2.3)\n",
      "Requirement already satisfied: pyxnat in /Library/Frameworks/Python.framework/Versions/3.10/lib/python3.10/site-packages (from fitz) (1.6.2)\n",
      "Requirement already satisfied: scipy in /Library/Frameworks/Python.framework/Versions/3.10/lib/python3.10/site-packages (from fitz) (1.14.1)\n",
      "Requirement already satisfied: pyparsing!=3.0.0,!=3.0.1,!=3.0.2,!=3.0.3,<4,>=2.4.2 in /Library/Frameworks/Python.framework/Versions/3.10/lib/python3.10/site-packages (from httplib2->fitz) (3.2.0)\n",
      "Requirement already satisfied: importlib-resources>=5.12 in /Library/Frameworks/Python.framework/Versions/3.10/lib/python3.10/site-packages (from nibabel->fitz) (6.4.5)\n",
      "Requirement already satisfied: packaging>=20 in /Users/innovapathinc/Library/Python/3.10/lib/python/site-packages (from nibabel->fitz) (24.1)\n",
      "Requirement already satisfied: typing-extensions>=4.6 in /Users/innovapathinc/Library/Python/3.10/lib/python/site-packages (from nibabel->fitz) (4.12.2)\n",
      "Requirement already satisfied: click>=6.6.0 in /Library/Frameworks/Python.framework/Versions/3.10/lib/python3.10/site-packages (from nipype->fitz) (8.1.7)\n",
      "Requirement already satisfied: networkx>=2.0 in /Library/Frameworks/Python.framework/Versions/3.10/lib/python3.10/site-packages (from nipype->fitz) (3.4.1)\n",
      "Requirement already satisfied: prov>=1.5.2 in /Library/Frameworks/Python.framework/Versions/3.10/lib/python3.10/site-packages (from nipype->fitz) (2.0.1)\n",
      "Requirement already satisfied: pydot>=1.2.3 in /Library/Frameworks/Python.framework/Versions/3.10/lib/python3.10/site-packages (from nipype->fitz) (3.0.2)\n",
      "Requirement already satisfied: python-dateutil>=2.2 in /Library/Frameworks/Python.framework/Versions/3.10/lib/python3.10/site-packages (from nipype->fitz) (2.8.2)\n",
      "Requirement already satisfied: rdflib>=5.0.0 in /Library/Frameworks/Python.framework/Versions/3.10/lib/python3.10/site-packages (from nipype->fitz) (6.3.2)\n",
      "Requirement already satisfied: simplejson>=3.8.0 in /Library/Frameworks/Python.framework/Versions/3.10/lib/python3.10/site-packages (from nipype->fitz) (3.19.3)\n",
      "Requirement already satisfied: traits!=5.0,<6.4,>=4.6 in /Library/Frameworks/Python.framework/Versions/3.10/lib/python3.10/site-packages (from nipype->fitz) (6.3.2)\n",
      "Requirement already satisfied: filelock>=3.0.0 in /Library/Frameworks/Python.framework/Versions/3.10/lib/python3.10/site-packages (from nipype->fitz) (3.16.1)\n",
      "Requirement already satisfied: etelemetry>=0.2.0 in /Library/Frameworks/Python.framework/Versions/3.10/lib/python3.10/site-packages (from nipype->fitz) (0.3.1)\n",
      "Requirement already satisfied: looseversion in /Library/Frameworks/Python.framework/Versions/3.10/lib/python3.10/site-packages (from nipype->fitz) (1.3.0)\n",
      "Requirement already satisfied: pytz>=2020.1 in /Library/Frameworks/Python.framework/Versions/3.10/lib/python3.10/site-packages (from pandas->fitz) (2024.2)\n",
      "Requirement already satisfied: tzdata>=2022.7 in /Library/Frameworks/Python.framework/Versions/3.10/lib/python3.10/site-packages (from pandas->fitz) (2024.2)\n",
      "Requirement already satisfied: lxml>=4.3 in /Library/Frameworks/Python.framework/Versions/3.10/lib/python3.10/site-packages (from pyxnat->fitz) (5.3.0)\n",
      "Requirement already satisfied: requests>=2.20 in /Library/Frameworks/Python.framework/Versions/3.10/lib/python3.10/site-packages (from pyxnat->fitz) (2.32.3)\n",
      "Requirement already satisfied: pathlib>=1.0 in /Library/Frameworks/Python.framework/Versions/3.10/lib/python3.10/site-packages (from pyxnat->fitz) (1.0.1)\n",
      "Requirement already satisfied: ci-info>=0.2 in /Library/Frameworks/Python.framework/Versions/3.10/lib/python3.10/site-packages (from etelemetry>=0.2.0->nipype->fitz) (0.3.0)\n",
      "Requirement already satisfied: six>=1.5 in /Users/innovapathinc/Library/Python/3.10/lib/python/site-packages (from python-dateutil>=2.2->nipype->fitz) (1.16.0)\n",
      "Requirement already satisfied: isodate<0.7.0,>=0.6.0 in /Library/Frameworks/Python.framework/Versions/3.10/lib/python3.10/site-packages (from rdflib>=5.0.0->nipype->fitz) (0.6.1)\n",
      "Requirement already satisfied: charset-normalizer<4,>=2 in /Library/Frameworks/Python.framework/Versions/3.10/lib/python3.10/site-packages (from requests>=2.20->pyxnat->fitz) (3.4.0)\n",
      "Requirement already satisfied: idna<4,>=2.5 in /Library/Frameworks/Python.framework/Versions/3.10/lib/python3.10/site-packages (from requests>=2.20->pyxnat->fitz) (3.10)\n",
      "Requirement already satisfied: urllib3<3,>=1.21.1 in /Library/Frameworks/Python.framework/Versions/3.10/lib/python3.10/site-packages (from requests>=2.20->pyxnat->fitz) (2.2.3)\n",
      "Requirement already satisfied: certifi>=2017.4.17 in /Library/Frameworks/Python.framework/Versions/3.10/lib/python3.10/site-packages (from requests>=2.20->pyxnat->fitz) (2024.8.30)\n",
      "Requirement already satisfied: PyMuPDF in /Library/Frameworks/Python.framework/Versions/3.10/lib/python3.10/site-packages (1.24.12)\n"
     ]
    }
   ],
   "source": [
    "!pip3 install fitz\n",
    "!pip3 install PyMuPDF\n"
   ]
  },
  {
   "cell_type": "code",
   "execution_count": 15,
   "metadata": {},
   "outputs": [
    {
     "name": "stderr",
     "output_type": "stream",
     "text": [
      "/Library/Frameworks/Python.framework/Versions/3.12/lib/python3.12/site-packages/transformers/tokenization_utils_base.py:1617: FutureWarning: `clean_up_tokenization_spaces` was not set. It will be set to `True` by default. This behavior will be deprecated in transformers v4.45, and will be then set to `False` by default. For more details check this issue: https://github.com/huggingface/transformers/issues/31884\n",
      "  warnings.warn(\n"
     ]
    }
   ],
   "source": [
    "# Load a pre-trained embedding model\n",
    "# This line initializes the SentenceTransformer model 'all-MiniLM-L6-v2', a compact, \n",
    "# efficient model for creating sentence embeddings that capture semantic meaning.\n",
    "model = SentenceTransformer('all-MiniLM-L6-v2')"
   ]
  },
  {
   "cell_type": "code",
   "execution_count": 3,
   "metadata": {},
   "outputs": [
    {
     "name": "stdout",
     "output_type": "stream",
     "text": [
      "Extracted text saved to: /Users/innovapathinc/Desktop/Response_eval/data/3M_2015_10K_extracted.txt\n",
      "Extracted text saved to: /Users/innovapathinc/Desktop/Response_eval/data/3M_2016_10K_extracted.txt\n"
     ]
    }
   ],
   "source": [
    "import fitz  # PyMuPDF\n",
    "import json\n",
    "import os\n",
    "from sentence_transformers import SentenceTransformer\n",
    "\n",
    "# Load a pre-trained embedding model\n",
    "model = SentenceTransformer('all-MiniLM-L6-v2')\n",
    "\n",
    "def generate_embeddings(text):\n",
    "    \"\"\"Generate embeddings for the given text.\"\"\"\n",
    "    return model.encode(text, convert_to_tensor=True)\n",
    "\n",
    "def extract_pdf_text(pdf_path):\n",
    "    \"\"\"Extract text from a PDF file using PyMuPDF.\"\"\"\n",
    "    try:\n",
    "        # Open the PDF file\n",
    "        doc = fitz.open(pdf_path)\n",
    "        text = \"\"\n",
    "        # Iterate through the pages and extract text\n",
    "        for page in doc:\n",
    "            text += page.get_text()\n",
    "        doc.close()\n",
    "        return text\n",
    "    except Exception as e:\n",
    "        print(f\"Error extracting text from {pdf_path}: {e}\")\n",
    "        return \"\"\n",
    "\n",
    "def load_metadata(jsonl_file):\n",
    "    \"\"\"Load metadata from a JSONL file.\"\"\"\n",
    "    try:\n",
    "        with open(jsonl_file, 'r') as f:\n",
    "            return [json.loads(line) for line in f]\n",
    "    except Exception as e:\n",
    "        print(f\"Error loading metadata from {jsonl_file}: {e}\")\n",
    "        return []\n",
    "\n",
    "def save_extracted_text(text, output_path):\n",
    "    \"\"\"Save extracted text to a text file.\"\"\"\n",
    "    with open(output_path, 'w', encoding='utf-8') as f:\n",
    "        f.write(text)\n",
    "    print(f\"Extracted text saved to: {output_path}\")\n",
    "\n",
    "# Example usage\n",
    "def main(pdf_files, metadata_file):\n",
    "    metadata = load_metadata(metadata_file)  # Load metadata\n",
    "\n",
    "    # Extract text from each PDF file and generate embeddings\n",
    "    for pdf_file in pdf_files:\n",
    "        text = extract_pdf_text(pdf_file)  # Extract text from PDF\n",
    "        if text:  # Ensure text extraction was successful\n",
    "            # Generate embeddings (optional)\n",
    "            embeddings = generate_embeddings(text)  # Generate embeddings\n",
    "            # Save the extracted text to a new .txt file\n",
    "            output_file = os.path.splitext(pdf_file)[0] + '_extracted.txt'  # Create output file name\n",
    "            save_extracted_text(text, output_file)  # Save extracted text\n",
    "\n",
    "# Define your PDF files and metadata file\n",
    "pdf_files = ['/Users/innovapathinc/Desktop/Response_eval/data/3M_2015_10K.pdf', '/Users/innovapathinc/Desktop/Response_eval/data/3M_2016_10K.pdf']  # Update paths\n",
    "metadata_file = '/Users/innovapathinc/Desktop/Response_eval/data/financebench_document_information.jsonl'  # Update with your JSONL metadata file\n",
    "\n",
    "if __name__ == \"__main__\":\n",
    "    main(pdf_files, metadata_file)\n"
   ]
  },
  {
   "cell_type": "code",
   "execution_count": 4,
   "metadata": {},
   "outputs": [
    {
     "name": "stdout",
     "output_type": "stream",
     "text": [
      "Loaded metadata: [{'doc_name': '3M_2015_10K', 'company': '3M', 'gics_sector': 'Industrials', 'doc_type': '10k', 'doc_period': 2015, 'doc_link': 'https://investors.3m.com/financials/sec-filings/content/0001558370-16-003162/0001558370-16-003162.pdf'}, {'doc_name': '3M_2016_10K', 'company': '3M', 'gics_sector': 'Industrials', 'doc_type': '10k', 'doc_period': 2016, 'doc_link': 'https://investors.3m.com/financials/sec-filings/content/0001558370-17-000479/0001558370-17-000479.pdf'}, {'doc_name': '3M_2017_10K', 'company': '3M', 'gics_sector': 'Industrials', 'doc_type': '10k', 'doc_period': 2017, 'doc_link': 'https://investors.3m.com/financials/sec-filings/content/0001558370-18-000535/0001558370-18-000535.pdf'}, {'doc_name': '3M_2018_10K', 'company': '3M', 'gics_sector': 'Industrials', 'doc_type': '10k', 'doc_period': 2018, 'doc_link': 'https://investors.3m.com/financials/sec-filings/content/0001558370-19-000470/0001558370-19-000470.pdf'}, {'doc_name': '3M_2022_10K', 'company': '3M', 'gics_sector': 'Industrials', 'doc_type': '10k', 'doc_period': 2022, 'doc_link': 'https://investors.3m.com/financials/sec-filings/content/0000066740-23-000014/0000066740-23-000014.pdf'}]\n"
     ]
    }
   ],
   "source": [
    "# Define your paths\n",
    "jsonl_file = \"/Users/innovapathinc/Desktop/Response_eval/data/financebench_document_information.jsonl\"\n",
    "pdf_files = [\n",
    "    \"/Users/innovapathinc/Desktop/Response_eval/data/3M_2015_10K.pdf\",\n",
    "    \"/Users/innovapathinc/Desktop/Response_eval/data/3M_2016_10K.pdf\"\n",
    "]\n",
    "\n",
    "# Load metadata from JSONL file\n",
    "metadata = load_metadata(jsonl_file)\n",
    "print(\"Loaded metadata:\", metadata)\n"
   ]
  },
  {
   "cell_type": "code",
   "execution_count": 9,
   "metadata": {},
   "outputs": [
    {
     "ename": "NameError",
     "evalue": "name 'faiss' is not defined",
     "output_type": "error",
     "traceback": [
      "\u001b[0;31m---------------------------------------------------------------------------\u001b[0m",
      "\u001b[0;31mNameError\u001b[0m                                 Traceback (most recent call last)",
      "Cell \u001b[0;32mIn[9], line 2\u001b[0m\n\u001b[1;32m      1\u001b[0m \u001b[38;5;66;03m# Initialize FAISS index\u001b[39;00m\n\u001b[0;32m----> 2\u001b[0m index \u001b[38;5;241m=\u001b[39m \u001b[43mfaiss\u001b[49m\u001b[38;5;241m.\u001b[39mIndexFlatL2(\u001b[38;5;241m384\u001b[39m)  \u001b[38;5;66;03m# Dimension should match your embedding size\u001b[39;00m\n\u001b[1;32m      4\u001b[0m \u001b[38;5;66;03m# Extract text from all PDF files and store embeddings\u001b[39;00m\n\u001b[1;32m      5\u001b[0m \u001b[38;5;28;01mfor\u001b[39;00m pdf_file \u001b[38;5;129;01min\u001b[39;00m pdf_files:\n",
      "\u001b[0;31mNameError\u001b[0m: name 'faiss' is not defined"
     ]
    }
   ],
   "source": [
    "# Initialize FAISS index\n",
    "index = faiss.IndexFlatL2(384)  # Dimension should match your embedding size\n",
    "\n",
    "# Extract text from all PDF files and store embeddings\n",
    "for pdf_file in pdf_files:\n",
    "    pdf_name = os.path.basename(pdf_file)\n",
    "    pdf_text = extract_pdf_text(pdf_file)\n",
    "    embedding = generate_embeddings(pdf_text).cpu().numpy()  # Convert to numpy array\n",
    "    index.add(np.array([embedding]))  # Add to FAISS index\n",
    "    print(f\"Stored embedding for {pdf_name} in the index.\")\n"
   ]
  },
  {
   "cell_type": "code",
   "execution_count": null,
   "metadata": {},
   "outputs": [],
   "source": []
  }
 ],
 "metadata": {
  "kernelspec": {
   "display_name": "Python 3",
   "language": "python",
   "name": "python3"
  },
  "language_info": {
   "codemirror_mode": {
    "name": "ipython",
    "version": 3
   },
   "file_extension": ".py",
   "mimetype": "text/x-python",
   "name": "python",
   "nbconvert_exporter": "python",
   "pygments_lexer": "ipython3",
   "version": "3.10.11"
  }
 },
 "nbformat": 4,
 "nbformat_minor": 2
}
